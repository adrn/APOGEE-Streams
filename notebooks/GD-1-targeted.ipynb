{
 "cells": [
  {
   "cell_type": "code",
   "execution_count": null,
   "metadata": {},
   "outputs": [],
   "source": [
    "import astropy.coordinates as coord\n",
    "import astropy.units as u\n",
    "from astropy.table import Table, join, vstack\n",
    "import numpy as np\n",
    "import matplotlib as mpl\n",
    "import matplotlib.pyplot as plt\n",
    "%matplotlib inline\n",
    "from astropy.io import ascii\n",
    "\n",
    "import gala.coordinates as gc\n",
    "import gala.dynamics as gd\n",
    "from gala.units import galactic\n",
    "from pyia import GaiaData"
   ]
  },
  {
   "cell_type": "code",
   "execution_count": null,
   "metadata": {},
   "outputs": [],
   "source": [
    "pm_poly = np.load('../../gd1-dr2/output/pm_poly.npy')"
   ]
  },
  {
   "cell_type": "code",
   "execution_count": null,
   "metadata": {},
   "outputs": [],
   "source": [
    "w = np.load('../../gd1-dr2/data/stream_model.npy')\n",
    "stream_w = gd.PhaseSpacePosition(pos=w[:, :3].T*u.kpc,\n",
    "                                 vel=w[:, 3:].T*u.km/u.s)\n",
    "model_c = stream_w.to_coord_frame(gc.GD1)\n",
    "model_c = model_c[(model_c.phi1.wrap_at(180*u.deg) < 20*u.deg) & \n",
    "                  (model_c.phi1.wrap_at(180*u.deg) > -100*u.deg)]\n",
    "model_c_ref = gc.reflex_correct(model_c)"
   ]
  },
  {
   "cell_type": "code",
   "execution_count": null,
   "metadata": {},
   "outputs": [],
   "source": [
    "gd1_g = GaiaData('../../gd1-dr2/data/gd1-master.fits')"
   ]
  },
  {
   "cell_type": "code",
   "execution_count": null,
   "metadata": {},
   "outputs": [],
   "source": [
    "xmatch = Table.read('/Users/adrian/data/APOGEE_DR15beta/gaiadr2_allStar-t9-l31c-58158.fits')\n",
    "xmatch.rename_column('apstar_id', 'APSTAR_ID')"
   ]
  },
  {
   "cell_type": "code",
   "execution_count": null,
   "metadata": {},
   "outputs": [],
   "source": [
    "apogee = Table.read('/Users/adrian/data/APOGEE_DR15beta/allStar-t9-l31c-58158.fits')"
   ]
  },
  {
   "cell_type": "code",
   "execution_count": null,
   "metadata": {},
   "outputs": [],
   "source": [
    "stream_mask = (apogee['APOGEE2_TARGET1'] & (2**18 + 2**19)) != 0\n",
    "stream_mask.sum()"
   ]
  },
  {
   "cell_type": "code",
   "execution_count": null,
   "metadata": {},
   "outputs": [],
   "source": [
    "apogee_gaia = join(apogee[stream_mask], xmatch, keys='APSTAR_ID')\n",
    "ndim_cols = [x for x in apogee_gaia.columns if apogee_gaia[x].ndim == 1]\n",
    "apogee_gaia = apogee_gaia[ndim_cols]\n",
    "\n",
    "# select distance stuff\n",
    "apogee_gaia = apogee_gaia[(apogee_gaia['parallax'] < 1.) | ((apogee_gaia['parallax'] - apogee_gaia['parallax_error']) < 1.)]\n",
    "\n",
    "g = GaiaData(apogee_gaia)\n",
    "len(g)"
   ]
  },
  {
   "cell_type": "code",
   "execution_count": null,
   "metadata": {},
   "outputs": [],
   "source": [
    "mask = gd1_mask\n",
    "\n",
    "fig, axes = plt.subplots(1, 2, figsize=(10, 4))\n",
    "\n",
    "ax = axes[0]\n",
    "ax.plot(apogee_gaia['TEFF'][mask], apogee_gaia['LOGG'][mask], \n",
    "        marker='.', linestyle='none')\n",
    "ax.set_xlabel('Teff')\n",
    "\n",
    "ax.set_xlim(6500, 3500)\n",
    "ax.set_ylim(4, 0)\n",
    "ax.set_ylabel('logg')\n",
    "\n",
    "ax = axes[1]\n",
    "ax.plot(apogee_gaia['RA'][mask], apogee_gaia['DEC'][mask], \n",
    "        marker='.', linestyle='none')\n",
    "ax.set_xlabel('RA')\n",
    "ax.set_ylabel('Dec')\n",
    "ax.set_xlim(360, 0)\n",
    "ax.set_ylim(-30, 90)\n",
    "\n",
    "fig.tight_layout()"
   ]
  },
  {
   "cell_type": "code",
   "execution_count": null,
   "metadata": {},
   "outputs": [],
   "source": [
    "gd1_mask = np.array(['GD1' in f for f in apogee_gaia['FIELD']])\n",
    "gd1_mask.sum()"
   ]
  },
  {
   "cell_type": "code",
   "execution_count": null,
   "metadata": {},
   "outputs": [],
   "source": [
    "c = g.get_skycoord(distance=8*u.kpc, \n",
    "                   radial_velocity=np.array(g.VHELIO_AVG)*u.km/u.s)\n",
    "c = gc.reflex_correct(c.transform_to(gc.GD1))\n",
    "\n",
    "phi1 = c.phi1.wrap_at(180*u.deg)\n",
    "phi2 = c.phi2\n",
    "\n",
    "pm1 = c.pm_phi1_cosphi2.to(u.mas/u.yr)\n",
    "pm2 = c.pm_phi2.to(u.mas/u.yr)"
   ]
  },
  {
   "cell_type": "code",
   "execution_count": null,
   "metadata": {},
   "outputs": [],
   "source": [
    "gd1_c = gd1_g[gd1_g.gi_cmd_mask & gd1_g.pm_mask].get_skycoord(distance=False)\n",
    "gd1_c = gd1_c.transform_to(gc.GD1)\n",
    "\n",
    "gd1_phi1 = gd1_c.phi1.wrap_at(180*u.deg)\n",
    "gd1_phi2 = gd1_c.phi2\n",
    "gd1_pm1 = gd1_c.pm_phi1_cosphi2.to(u.mas/u.yr)\n",
    "gd1_pm2 = gd1_c.pm_phi2.to(u.mas/u.yr)"
   ]
  },
  {
   "cell_type": "code",
   "execution_count": null,
   "metadata": {
    "scrolled": true
   },
   "outputs": [],
   "source": [
    "fig, ax = plt.subplots(1, 1, figsize=(15, 3))\n",
    "\n",
    "ax.plot(phi1[gd1_mask], phi2[gd1_mask], \n",
    "        marker='o', mec='tab:blue', mew=1, mfc='none',\n",
    "        ls='none', alpha=0.5)\n",
    "\n",
    "ax.plot(gd1_phi1, gd1_phi2, \n",
    "        marker='.', ls='none', alpha=0.5, color='k')\n",
    "\n",
    "ax.set_xlim(-100, 20)\n",
    "ax.set_ylim(-10, 5)\n",
    "ax.set_aspect('equal')\n",
    "\n",
    "ax.set_xlabel(r'$\\phi_1$')\n",
    "ax.set_ylabel(r'$\\phi_2$')\n",
    "\n",
    "fig.tight_layout()\n",
    "# fig.savefig('../plots/full-phi1phi2.png', dpi=250)"
   ]
  },
  {
   "cell_type": "code",
   "execution_count": null,
   "metadata": {},
   "outputs": [],
   "source": [
    "fig, axes = plt.subplots(1, 5, figsize=(15, 3))\n",
    "\n",
    "for i, field_name in enumerate(np.unique(apogee_gaia['FIELD'][gd1_mask])):\n",
    "    ax = axes[i]\n",
    "    \n",
    "    field_mask = apogee_gaia['FIELD'] == field_name\n",
    "\n",
    "    _phi1 = phi1[gd1_mask & field_mask].value\n",
    "    _phi2 = phi2[gd1_mask & field_mask].value\n",
    "    \n",
    "    ax.scatter(phi1[gd1_mask], phi2[gd1_mask], \n",
    "               marker='o', color='tab:blue', linewidth=1, facecolor='none',\n",
    "               alpha=1, s=25)\n",
    "\n",
    "    ax.plot(gd1_phi1, gd1_phi2, \n",
    "            marker='o', ls='none', alpha=0.75, color='k')\n",
    "\n",
    "    ax.set_xlim(np.mean(_phi1) - 3.5, \n",
    "                np.mean(_phi1) + 3.5)\n",
    "    ax.set_ylim(np.mean(_phi2) - 3.5, \n",
    "                np.mean(_phi2) + 3.5)\n",
    "    ax.set_aspect('equal')\n",
    "    \n",
    "    ax.set_xlabel(r'$\\phi_1$ [deg]')\n",
    "\n",
    "    fig.tight_layout()\n",
    "    \n",
    "axes[0].set_ylabel(r'$\\phi_2$ [deg]')\n",
    "\n",
    "fig.savefig('../plots/zoom-phi1phi2.png', dpi=200)"
   ]
  },
  {
   "cell_type": "code",
   "execution_count": null,
   "metadata": {},
   "outputs": [],
   "source": [
    "kop_vr = ascii.read(\"\"\"phi1 phi2 vr err\n",
    "-45.23 -0.04 28.8 6.9\n",
    "-43.17 -0.09 29.3 10.2\n",
    "-39.54 -0.07 2.9  8.7\n",
    "-39.25 -0.22 -5.2 6.5\n",
    "-37.95 0.00 1.1   5.6\n",
    "-37.96 -0.00 -11.7 11.2\n",
    "-35.49 -0.05 -50.4 5.2\n",
    "-35.27 -0.02 -30.9 12.8\n",
    "-34.92 -0.15 -35.3 7.5\n",
    "-34.74 -0.08 -30.9 9.2\n",
    "-33.74 -0.18 -74.3 9.8\n",
    "-32.90 -0.15 -71.5 9.6\n",
    "-32.25 -0.17 -71.5 9.2\n",
    "-29.95 -0.00 -92.7 8.7\n",
    "-26.61 -0.11 -114.2 7.3\n",
    "-25.45 -0.14 -67.8 7.1\n",
    "-24.86 0.01 -111.2 17.8\n",
    "-21.21 -0.02 -144.4 10.5\n",
    "-14.47 -0.15 -179.0 10.0\n",
    "-13.73 -0.28 -191.4 7.5\n",
    "-13.02 -0.21 -162.9 9.6\n",
    "-12.68 -0.26 -217.2 10.7\n",
    "-12.55 -0.23 -172.2 6.6\"\"\")"
   ]
  },
  {
   "cell_type": "code",
   "execution_count": null,
   "metadata": {},
   "outputs": [],
   "source": [
    "fig, ax = plt.subplots(1, 1, figsize=(5, 5))\n",
    "\n",
    "ax.scatter(pm1[gd1_mask], pm2[gd1_mask], marker='o', color='tab:blue', \n",
    "           linewidth=1, s=15, alpha=1)\n",
    "\n",
    "pm_path = mpl.patches.Polygon(pm_poly, \n",
    "                              facecolor='none', edgecolor='k')\n",
    "ax.add_patch(pm_path)\n",
    "pm_path = mpl.patches.Path(pm_poly)\n",
    "\n",
    "ax.scatter(model_c_ref.pm_phi1_cosphi2.to(u.mas/u.yr), \n",
    "           model_c_ref.pm_phi2.to(u.mas/u.yr), \n",
    "           zorder=-100, color='#aaaaaa')\n",
    "\n",
    "ax.set_xlim(-15, 15)\n",
    "ax.set_ylim(-15, 15)\n",
    "\n",
    "ax.set_xlabel(r'$\\mu_1 \\, \\cos\\phi_2$')\n",
    "ax.set_ylabel(r'$\\mu_2$')\n",
    "fig.tight_layout()\n",
    "fig.savefig('../plots/1-pm.png', dpi=250)"
   ]
  },
  {
   "cell_type": "code",
   "execution_count": null,
   "metadata": {},
   "outputs": [],
   "source": [
    "apogee_pm_mask = pm_path.contains_points(np.vstack((pm1, pm2)).T)\n",
    "apogee_pm_mask.sum()"
   ]
  },
  {
   "cell_type": "code",
   "execution_count": null,
   "metadata": {},
   "outputs": [],
   "source": [
    "(gd1_mask & apogee_pm_mask).sum()"
   ]
  },
  {
   "cell_type": "code",
   "execution_count": null,
   "metadata": {},
   "outputs": [],
   "source": [
    "g.M_H[gd1_mask & apogee_pm_mask]"
   ]
  },
  {
   "cell_type": "code",
   "execution_count": null,
   "metadata": {},
   "outputs": [],
   "source": [
    "members_mask = gd1_mask & apogee_pm_mask & (g.FE_H < -1) & (g.FE_H > -99)\n",
    "elems = np.array(['M_H', 'ALPHA_M', 'MG_FE', 'CA_FE', 'SI_FE', 'N_FE', \n",
    "                 'MN_FE', 'Y_FE', 'V_FE', 'C_FE', 'CO_FE', 'CR_FE', \n",
    "                  'S_FE', 'AL_FE'])\n",
    "\n",
    "elems1 = np.array([g.data[members_mask][e][0] for e in elems])\n",
    "elems2 = np.array([g.data[members_mask][e][1] for e in elems])\n",
    "diffs = elems1 - elems2\n",
    "errs = np.sqrt(np.array([g.data[members_mask][e+'_ERR'][0] for e in elems])**2 + \n",
    "               np.array([g.data[members_mask][e+'_ERR'][1] for e in elems])**2)\n",
    "\n",
    "good_mask = (elems1 > -99) & (elems2 > -99)\n",
    "\n",
    "fig, ax = plt.subplots(1, 1, figsize=(10, 5))\n",
    "\n",
    "ax.errorbar(elems[good_mask], diffs[good_mask],\n",
    "            yerr=errs[good_mask], marker='o', ls='none')\n",
    "\n",
    "ax.axhline(0, zorder=-10, marker='', alpha=0.2)\n",
    "ax.set_ylim(-1, 1)\n",
    "\n",
    "plt.xticks(rotation='vertical')\n",
    "\n",
    "ax.set_ylabel(r'$\\Delta$')"
   ]
  },
  {
   "cell_type": "code",
   "execution_count": null,
   "metadata": {},
   "outputs": [],
   "source": [
    "fig, ax = plt.subplots(1, 1, figsize=(8, 6))\n",
    "\n",
    "_phi1 = phi1[gd1_mask].value\n",
    "_rv = g.VHELIO_AVG[gd1_mask]\n",
    "\n",
    "ax.scatter(_phi1, _rv, \n",
    "           marker='o', color='tab:blue', linewidth=1, facecolor='none',\n",
    "           alpha=1, s=25, label='APOGEE')\n",
    "\n",
    "# ax.scatter(_phi1, g.radial_velocity[gd1_mask], \n",
    "#            color='tab:purple')\n",
    "\n",
    "ax.scatter(phi1.value[members_mask],\n",
    "           g.VHELIO_AVG[members_mask], \n",
    "           color='tab:red', label='[Fe/H]+Gaia members')\n",
    "\n",
    "ax.plot(kop_vr['phi1'], kop_vr['vr'], \n",
    "        marker='o', ls='none', alpha=0.75, color='k', \n",
    "        label='Koposov/SEGUE')\n",
    "\n",
    "ax.scatter(model_c.phi1.wrap_at(180*u.deg),\n",
    "           model_c.radial_velocity.to(u.km/u.s), \n",
    "           zorder=-100, color='#aaaaaa',\n",
    "           label='model')\n",
    "\n",
    "ax.set_xlim(-100, 20)\n",
    "ax.set_ylim(-350, 350)\n",
    "\n",
    "ax.set_xlabel(r'$\\phi_1$ [deg]')\n",
    "\n",
    "ax.legend(loc='upper right', fontsize=18)\n",
    "ax.set_ylabel(r'$v_r$ [{0:latex_inline}]'.format(u.km/u.s))\n",
    "fig.tight_layout()\n",
    "fig.savefig('../plots/1-rv.png', dpi=250)"
   ]
  },
  {
   "cell_type": "markdown",
   "metadata": {},
   "source": [
    "### Try RV selection instead:"
   ]
  },
  {
   "cell_type": "code",
   "execution_count": null,
   "metadata": {},
   "outputs": [],
   "source": [
    "wtf_mask = (((phi1.value < -50) & (phi1.value > -60) & (rv > 93) & (rv < 150)) | \n",
    "            ((phi1.value < -20) & (phi1.value > -30) & (rv < -80) & (rv > -200)) |\n",
    "            ((phi1.value < 20) & (phi1.value > 0) & (rv < -220) & (rv > -300)))"
   ]
  },
  {
   "cell_type": "code",
   "execution_count": null,
   "metadata": {},
   "outputs": [],
   "source": [
    "fig, ax = plt.subplots(1, 1, figsize=(8, 6))\n",
    "\n",
    "_phi1 = phi1[gd1_mask].value\n",
    "_rv = g.VHELIO_AVG[gd1_mask]\n",
    "\n",
    "ax.scatter(_phi1, _rv, \n",
    "           marker='o', color='tab:blue', linewidth=1, facecolor='none',\n",
    "           alpha=1, s=25, label='APOGEE')\n",
    "\n",
    "# ax.scatter(_phi1, g.radial_velocity[gd1_mask], \n",
    "#            color='tab:purple')\n",
    "\n",
    "ax.scatter(phi1.value[gd1_mask & wtf_mask],\n",
    "           g.VHELIO_AVG[gd1_mask & wtf_mask], \n",
    "           color='tab:red', label='RV members')\n",
    "\n",
    "ax.plot(kop_vr['phi1'], kop_vr['vr'], \n",
    "        marker='o', ls='none', alpha=0.75, color='k', \n",
    "        label='Koposov/SEGUE')\n",
    "\n",
    "ax.scatter(model_c.phi1.wrap_at(180*u.deg),\n",
    "           model_c.radial_velocity.to(u.km/u.s), \n",
    "           zorder=-100, color='#aaaaaa',\n",
    "           label='model')\n",
    "\n",
    "ax.set_xlim(-100, 20)\n",
    "ax.set_ylim(-350, 350)\n",
    "\n",
    "ax.set_xlabel(r'$\\phi_1$ [deg]')\n",
    "\n",
    "ax.legend(loc='upper right', fontsize=18)\n",
    "ax.set_ylabel(r'$v_r$ [{0:latex_inline}]'.format(u.km/u.s))\n",
    "fig.tight_layout()\n",
    "fig.savefig('../plots/2-rv.png', dpi=250)"
   ]
  },
  {
   "cell_type": "code",
   "execution_count": null,
   "metadata": {},
   "outputs": [],
   "source": [
    "fig, ax = plt.subplots(1, 1, figsize=(5, 5))\n",
    "\n",
    "ax.scatter(pm1[gd1_mask], pm2[gd1_mask], marker='o', color='tab:blue', \n",
    "           linewidth=1, s=15, alpha=1)\n",
    "\n",
    "ax.scatter(pm1[gd1_mask & wtf_mask], pm2[gd1_mask & wtf_mask], marker='o', color='tab:red', \n",
    "           linewidth=1, s=15, alpha=1)\n",
    "\n",
    "pm_path = mpl.patches.Polygon(pm_poly, \n",
    "                              facecolor='none', edgecolor='k')\n",
    "ax.add_patch(pm_path)\n",
    "pm_path = mpl.patches.Path(pm_poly)\n",
    "\n",
    "ax.scatter(model_c_ref.pm_phi1_cosphi2.to(u.mas/u.yr), \n",
    "           model_c_ref.pm_phi2.to(u.mas/u.yr), \n",
    "           zorder=-100, color='#aaaaaa')\n",
    "\n",
    "ax.set_xlim(-15, 15)\n",
    "ax.set_ylim(-15, 15)\n",
    "\n",
    "ax.set_xlabel(r'$\\mu_1 \\, \\cos\\phi_2$')\n",
    "ax.set_ylabel(r'$\\mu_2$')\n",
    "\n",
    "fig.savefig('../plots/2-pm.png', dpi=250)\n",
    "fig.set_facecolor('w')"
   ]
  },
  {
   "cell_type": "code",
   "execution_count": null,
   "metadata": {},
   "outputs": [],
   "source": [
    "fig, ax = plt.subplots(1, 1, figsize=(8, 6))\n",
    "\n",
    "_phi1 = phi1[gd1_mask].value\n",
    "_mh = g.M_H[gd1_mask]\n",
    "\n",
    "ax.scatter(_phi1, _mh, \n",
    "           marker='o', color='tab:blue', linewidth=1, facecolor='none',\n",
    "           alpha=1, s=25, label='APOGEE')\n",
    "\n",
    "ax.scatter(phi1.value[gd1_mask & wtf_mask],\n",
    "           g.M_H[gd1_mask & wtf_mask], \n",
    "           color='tab:red', label='RV members')\n",
    "\n",
    "ax.set_xlim(-100, 20)\n",
    "ax.set_ylim(-2.5, 0.75)\n",
    "\n",
    "ax.set_xlabel(r'$\\phi_1$ [deg]')\n",
    "\n",
    "ax.legend(loc='upper right', fontsize=18)\n",
    "ax.set_ylabel(r'[Fe/H]')\n",
    "fig.tight_layout()\n",
    "fig.savefig('../plots/2-feh.png', dpi=250)"
   ]
  },
  {
   "cell_type": "code",
   "execution_count": null,
   "metadata": {},
   "outputs": [],
   "source": []
  },
  {
   "cell_type": "code",
   "execution_count": null,
   "metadata": {},
   "outputs": [],
   "source": []
  },
  {
   "cell_type": "code",
   "execution_count": null,
   "metadata": {},
   "outputs": [],
   "source": []
  },
  {
   "cell_type": "code",
   "execution_count": null,
   "metadata": {},
   "outputs": [],
   "source": []
  },
  {
   "cell_type": "code",
   "execution_count": null,
   "metadata": {},
   "outputs": [],
   "source": []
  },
  {
   "cell_type": "code",
   "execution_count": null,
   "metadata": {},
   "outputs": [],
   "source": []
  },
  {
   "cell_type": "code",
   "execution_count": null,
   "metadata": {},
   "outputs": [],
   "source": []
  },
  {
   "cell_type": "code",
   "execution_count": null,
   "metadata": {},
   "outputs": [],
   "source": []
  },
  {
   "cell_type": "code",
   "execution_count": null,
   "metadata": {},
   "outputs": [],
   "source": []
  },
  {
   "cell_type": "code",
   "execution_count": null,
   "metadata": {},
   "outputs": [],
   "source": [
    "fig, axes = plt.subplots(2, 1, figsize=(8, 8), \n",
    "                         sharex=True, sharey=True)\n",
    "\n",
    "ax = axes[0]\n",
    "ax.scatter(phi1[gd1_mask], pm1[gd1_mask],\n",
    "           c='k', marker='o', alpha=0.5, linewidth=0)\n",
    "\n",
    "ax.scatter(model_c.phi1.wrap_at(180*u.deg),\n",
    "           model_c.pm_phi1_cosphi2.to(u.mas/u.yr), \n",
    "           zorder=-100, color='#aaaaaa')\n",
    "\n",
    "ax.set_ylabel('pm1')\n",
    "\n",
    "ax.set_xlim(-100, 30)\n",
    "ax.set_ylim(-20, 15)\n",
    "\n",
    "\n",
    "ax = axes[1]\n",
    "ax.scatter(phi1[gd1_mask], pm2[gd1_mask],\n",
    "           c='k', marker='o', alpha=0.5, linewidth=0)\n",
    "\n",
    "ax.scatter(model_c.phi1.wrap_at(180*u.deg),\n",
    "           model_c.pm_phi2.to(u.mas/u.yr), \n",
    "           zorder=-100, color='#aaaaaa')\n",
    "\n",
    "ax.set_ylabel('pm2')\n",
    "ax.set_xlabel('phi1')\n",
    "\n",
    "fig.tight_layout()"
   ]
  },
  {
   "cell_type": "code",
   "execution_count": null,
   "metadata": {},
   "outputs": [],
   "source": []
  },
  {
   "cell_type": "code",
   "execution_count": null,
   "metadata": {},
   "outputs": [],
   "source": []
  }
 ],
 "metadata": {
  "kernelspec": {
   "display_name": "Python [default]",
   "language": "python",
   "name": "python3"
  },
  "language_info": {
   "codemirror_mode": {
    "name": "ipython",
    "version": 3
   },
   "file_extension": ".py",
   "mimetype": "text/x-python",
   "name": "python",
   "nbconvert_exporter": "python",
   "pygments_lexer": "ipython3",
   "version": "3.6.4"
  }
 },
 "nbformat": 4,
 "nbformat_minor": 2
}