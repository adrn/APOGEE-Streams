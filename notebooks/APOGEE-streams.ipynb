{
 "cells": [
  {
   "cell_type": "code",
   "execution_count": null,
   "metadata": {},
   "outputs": [],
   "source": [
    "import astropy.coordinates as coord\n",
    "import astropy.units as u\n",
    "from astropy.table import Table, join, vstack\n",
    "import numpy as np\n",
    "import matplotlib as mpl\n",
    "import matplotlib.pyplot as plt\n",
    "%matplotlib inline\n",
    "from astropy.io import ascii\n",
    "\n",
    "import gala.coordinates as gc\n",
    "import gala.dynamics as gd\n",
    "from gala.units import galactic\n",
    "from pyia import GaiaData"
   ]
  },
  {
   "cell_type": "code",
   "execution_count": null,
   "metadata": {},
   "outputs": [],
   "source": [
    "xmatch = Table.read('/Users/adrian/data/APOGEE_DR15beta/gaiadr2_allStar-t9-l31c-58158.fits')\n",
    "xmatch.rename_column('apstar_id', 'APSTAR_ID')"
   ]
  },
  {
   "cell_type": "code",
   "execution_count": null,
   "metadata": {},
   "outputs": [],
   "source": [
    "apogee = Table.read('/Users/adrian/data/APOGEE_DR15beta/allStar-t9-l31c-58158.fits')"
   ]
  },
  {
   "cell_type": "code",
   "execution_count": null,
   "metadata": {},
   "outputs": [],
   "source": [
    "stream_mask = (apogee['APOGEE2_TARGET1'] & (2**18 + 2**19)) != 0\n",
    "stream_mask.sum()"
   ]
  },
  {
   "cell_type": "code",
   "execution_count": null,
   "metadata": {},
   "outputs": [],
   "source": [
    "apogee_gaia = join(apogee[stream_mask], xmatch, keys='APSTAR_ID')\n",
    "ndim_cols = [x for x in apogee_gaia.columns if apogee_gaia[x].ndim == 1]\n",
    "apogee_gaia = apogee_gaia[ndim_cols]\n",
    "\n",
    "# select distance stuff\n",
    "apogee_gaia = apogee_gaia[(apogee_gaia['parallax'] < 1.) | ((apogee_gaia['parallax'] - apogee_gaia['parallax_error']) < 1.)]\n",
    "\n",
    "g = GaiaData(apogee_gaia)\n",
    "len(g)"
   ]
  },
  {
   "cell_type": "code",
   "execution_count": null,
   "metadata": {},
   "outputs": [],
   "source": [
    "np.unique(apogee_gaia['FIELD'])"
   ]
  },
  {
   "cell_type": "code",
   "execution_count": null,
   "metadata": {},
   "outputs": [],
   "source": [
    "gd1_mask = np.array(['GD1' in f for f in apogee_gaia['FIELD']])\n",
    "orp_mask = np.array(['ORPHAN' in f for f in apogee_gaia['FIELD']])\n",
    "pal5_mask = np.array(['PAL5' in f for f in apogee_gaia['FIELD']])\n",
    "tri_mask = np.array(['TRIAND' in f for f in apogee_gaia['FIELD']])\n",
    "\n",
    "gd1_mask.sum(), orp_mask.sum(), pal5_mask.sum(), tri_mask.sum()"
   ]
  },
  {
   "cell_type": "code",
   "execution_count": null,
   "metadata": {},
   "outputs": [],
   "source": [
    "fig, axes = plt.subplots(1, 3, figsize=(12, 4), sharex=True, sharey=True)\n",
    "\n",
    "for i, name, mask in zip(range(3), \n",
    "                         ['GD-1', 'Orp', 'Pal5'],\n",
    "                         [gd1_mask, orp_mask, pal5_mask]):\n",
    "    ax = axes.flat[i]\n",
    "    ax.plot(apogee_gaia['TEFF'][mask], apogee_gaia['LOGG'][mask], \n",
    "            marker='.', linestyle='none')\n",
    "    ax.set_title(name)\n",
    "    ax.set_xlabel('Teff')\n",
    "\n",
    "ax.set_xlim(6500, 3500)\n",
    "ax.set_ylim(4, 0)\n",
    "axes[0].set_ylabel('logg')\n",
    "\n",
    "fig.tight_layout()"
   ]
  },
  {
   "cell_type": "code",
   "execution_count": null,
   "metadata": {},
   "outputs": [],
   "source": [
    "fig, axes = plt.subplots(1, 3, figsize=(12, 4), sharex=True, sharey=True)\n",
    "\n",
    "for i, name, mask in zip(range(3), \n",
    "                         ['GD-1', 'Orp', 'Pal5'],\n",
    "                         [gd1_mask, orp_mask, pal5_mask]):\n",
    "    ax = axes.flat[i]\n",
    "    ax.plot(apogee_gaia['RA'][mask], apogee_gaia['DEC'][mask], \n",
    "            marker='.', linestyle='none')\n",
    "    ax.set_title(name)\n",
    "    ax.set_xlabel('RA')\n",
    "\n",
    "fig.tight_layout()\n",
    "ax.set_xlim(360, 0)\n",
    "ax.set_ylim(-30, 90)\n",
    "axes[0].set_ylabel('Dec')\n",
    "\n",
    "fig.tight_layout()"
   ]
  },
  {
   "cell_type": "code",
   "execution_count": null,
   "metadata": {},
   "outputs": [],
   "source": [
    "pm_poly = np.load('../../gd1-dr2/output/pm_poly.npy')"
   ]
  },
  {
   "cell_type": "code",
   "execution_count": null,
   "metadata": {},
   "outputs": [],
   "source": [
    "fig, axes = plt.subplots(2, 3, figsize=(12, 8), sharex='row', sharey='row')\n",
    "fig2, axes2 = plt.subplots(1, 3, figsize=(12, 4.5), sharex=True)\n",
    "\n",
    "for line in zip(range(3), \n",
    "                ['GD-1', 'Orp', 'Pal5'],\n",
    "                [gd1_mask, orp_mask, pal5_mask],\n",
    "                [gc.GD1(), gc.Orphan(), gc.Pal5()],\n",
    "                [8.*u.kpc, 30*u.kpc, 22*u.kpc]):\n",
    "    i, name, mask, frame, dist = line\n",
    "    \n",
    "    lon, lat, _ = frame.get_representation_component_names().keys()\n",
    "    \n",
    "    stream_g = g[mask]\n",
    "    c = stream_g.get_skycoord(distance=dist, \n",
    "                              radial_velocity=np.array(stream_g.VHELIO_AVG)*u.km/u.s)\n",
    "    c = gc.reflex_correct(c.transform_to(frame))\n",
    "    pm1 = getattr(c, 'pm_{0}_cos{1}'.format(lon, lat)).to(u.mas/u.yr)\n",
    "    pm2 = getattr(c, 'pm_{0}'.format(lat)).to(u.mas/u.yr)\n",
    "    \n",
    "    # top row\n",
    "    ax = axes[0, i]\n",
    "    ax.scatter(pm1, pm2,\n",
    "               c=stream_g.FE_H, vmin=-2., vmax=0,\n",
    "               marker='o', alpha=0.7, linewidth=0)\n",
    "    if name == 'GD-1':\n",
    "        ax.add_patch(mpl.patches.Polygon(pm_poly, facecolor='none', edgecolor='k', zorder=-10))\n",
    "    ax.set_title(name)\n",
    "    ax.axhline(0, zorder=-100, color='#cccccc')\n",
    "    ax.set_xlabel('pm1')\n",
    "    \n",
    "    # bottom row\n",
    "    ax = axes[1, i]\n",
    "    ax.scatter(getattr(c, lon).wrap_at(180*u.deg),\n",
    "               c.radial_velocity.to(u.km/u.s),\n",
    "               c=stream_g.FE_H, vmin=-2., vmax=-1,\n",
    "               marker='o', alpha=0.7, linewidth=0)\n",
    "    ax.set_xlabel('phi1')\n",
    "    \n",
    "    # metallicity\n",
    "    axes2[i].hist(stream_g.FE_H, bins=np.linspace(-2.5, 0.5, 32));\n",
    "    axes2[i].set_xlabel('[Fe/H]')\n",
    "\n",
    "fig.tight_layout()\n",
    "axes[0, 0].set_xlim(-15, 15)\n",
    "axes[0, 0].set_ylim(-15, 15)\n",
    "axes[1, 0].set_xlim(-120, 60)\n",
    "axes[1, 0].set_ylim(-300, 300)\n",
    "axes[0, 0].set_ylabel('pm2')\n",
    "axes[1, 0].set_ylabel('RV')\n",
    "\n",
    "fig.tight_layout()\n",
    "fig2.tight_layout()"
   ]
  },
  {
   "cell_type": "markdown",
   "metadata": {},
   "source": [
    "---"
   ]
  },
  {
   "cell_type": "code",
   "execution_count": null,
   "metadata": {},
   "outputs": [],
   "source": [
    "kop_vr = ascii.read(\"\"\"phi1 phi2 vr err\n",
    "-45.23 -0.04 28.8 6.9\n",
    "-43.17 -0.09 29.3 10.2\n",
    "-39.54 -0.07 2.9  8.7\n",
    "-39.25 -0.22 -5.2 6.5\n",
    "-37.95 0.00 1.1   5.6\n",
    "-37.96 -0.00 -11.7 11.2\n",
    "-35.49 -0.05 -50.4 5.2\n",
    "-35.27 -0.02 -30.9 12.8\n",
    "-34.92 -0.15 -35.3 7.5\n",
    "-34.74 -0.08 -30.9 9.2\n",
    "-33.74 -0.18 -74.3 9.8\n",
    "-32.90 -0.15 -71.5 9.6\n",
    "-32.25 -0.17 -71.5 9.2\n",
    "-29.95 -0.00 -92.7 8.7\n",
    "-26.61 -0.11 -114.2 7.3\n",
    "-25.45 -0.14 -67.8 7.1\n",
    "-24.86 0.01 -111.2 17.8\n",
    "-21.21 -0.02 -144.4 10.5\n",
    "-14.47 -0.15 -179.0 10.0\n",
    "-13.73 -0.28 -191.4 7.5\n",
    "-13.02 -0.21 -162.9 9.6\n",
    "-12.68 -0.26 -217.2 10.7\n",
    "-12.55 -0.23 -172.2 6.6\"\"\")"
   ]
  },
  {
   "cell_type": "code",
   "execution_count": null,
   "metadata": {},
   "outputs": [],
   "source": [
    "w = np.load('../../gd1-dr2/data/stream_model.npy')\n",
    "stream_w = gd.PhaseSpacePosition(pos=w[:, :3].T*u.kpc,\n",
    "                                 vel=w[:, 3:].T*u.km/u.s)\n",
    "model_c = stream_w.to_coord_frame(gc.GD1)"
   ]
  },
  {
   "cell_type": "code",
   "execution_count": null,
   "metadata": {},
   "outputs": [],
   "source": [
    "name = 'GD-1'\n",
    "mask = gd1_mask\n",
    "frame = gc.GD1()\n",
    "dist = 10*u.kpc\n",
    "\n",
    "stream_g = g[mask]\n",
    "c = stream_g.get_skycoord(distance=dist, \n",
    "                          radial_velocity=np.array(stream_g.VHELIO_AVG)*u.km/u.s)\n",
    "c = gc.reflex_correct(c.transform_to(frame))\n",
    "pm1 = c.pm_phi1_cosphi2\n",
    "pm2 = c.pm_phi2\n",
    "\n",
    "fig, ax = plt.subplots(1, 1, figsize=(8, 6))\n",
    "ax.scatter(c.phi1.wrap_at(180*u.deg),\n",
    "           stream_g.VHELIO_AVG,\n",
    "           c='k', marker='o', alpha=0.5, linewidth=0)\n",
    "# ax.scatter(kop_vr['phi1'], kop_vr['vr'])#, kop_vr['err']\n",
    "\n",
    "ax.scatter(model_c.phi1.wrap_at(180*u.deg),\n",
    "           model_c.radial_velocity.to(u.km/u.s), \n",
    "           zorder=-100, color='#aaaaaa')\n",
    "\n",
    "ax.set_xlabel('phi1')\n",
    "ax.set_ylabel('RV')\n",
    "\n",
    "ax.set_xlim(-100, 30)\n",
    "ax.set_ylim(-320, 320)\n",
    "\n",
    "fig.tight_layout()"
   ]
  },
  {
   "cell_type": "code",
   "execution_count": null,
   "metadata": {},
   "outputs": [],
   "source": [
    "phi1 = c.phi1.wrap_at(180*u.deg).degree\n",
    "rv = stream_g.VHELIO_AVG\n",
    "rv_mask = (((phi1 > 0) & (rv < -220) & (rv > -300)) | \n",
    " ((phi1 < -20) & (phi1 > -40) & (rv < -95) & (rv > -200)) |\n",
    " ((phi1 > -60) & (phi1 < -50) & (rv > 90) & (rv < 150)))"
   ]
  },
  {
   "cell_type": "code",
   "execution_count": null,
   "metadata": {},
   "outputs": [],
   "source": [
    "feh_mask = (stream_g.FE_H > -1.9) & (stream_g.FE_H < -1.4)"
   ]
  },
  {
   "cell_type": "code",
   "execution_count": null,
   "metadata": {},
   "outputs": [],
   "source": []
  },
  {
   "cell_type": "code",
   "execution_count": null,
   "metadata": {},
   "outputs": [],
   "source": []
  },
  {
   "cell_type": "code",
   "execution_count": null,
   "metadata": {},
   "outputs": [],
   "source": []
  }
 ],
 "metadata": {
  "kernelspec": {
   "display_name": "Python [default]",
   "language": "python",
   "name": "python3"
  },
  "language_info": {
   "codemirror_mode": {
    "name": "ipython",
    "version": 3
   },
   "file_extension": ".py",
   "mimetype": "text/x-python",
   "name": "python",
   "nbconvert_exporter": "python",
   "pygments_lexer": "ipython3",
   "version": "3.6.4"
  }
 },
 "nbformat": 4,
 "nbformat_minor": 2
}