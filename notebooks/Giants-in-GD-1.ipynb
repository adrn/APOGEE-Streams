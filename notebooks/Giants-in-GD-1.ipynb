{
 "cells": [
  {
   "cell_type": "code",
   "execution_count": null,
   "metadata": {},
   "outputs": [],
   "source": [
    "from os import path\n",
    "\n",
    "# Third-party\n",
    "import astropy.coordinates as coord\n",
    "from astropy.table import Table, vstack, hstack, join\n",
    "from astropy.io import fits, ascii\n",
    "import astropy.units as u\n",
    "import matplotlib as mpl\n",
    "import matplotlib.pyplot as plt\n",
    "import numpy as np\n",
    "%matplotlib inline\n",
    "\n",
    "from pyia import GaiaData\n",
    "\n",
    "import gala.coordinates as gc\n",
    "import gala.dynamics as gd\n",
    "import gala.potential as gp\n",
    "from sfd import reddening\n",
    "\n",
    "from scipy.stats import binned_statistic\n",
    "from scipy.interpolate import interp1d\n",
    "\n",
    "from ezpadova.parsec import get_one_isochrone, help_phot"
   ]
  },
  {
   "cell_type": "code",
   "execution_count": null,
   "metadata": {},
   "outputs": [],
   "source": [
    "g_ms = GaiaData('../../gd1-dr2/data/gd1-master.fits')"
   ]
  },
  {
   "cell_type": "code",
   "execution_count": null,
   "metadata": {},
   "outputs": [],
   "source": [
    "phi1_to_phi2 = np.poly1d(np.load('../../gd1-dr2/output/polytrack.npy'))"
   ]
  },
  {
   "cell_type": "code",
   "execution_count": null,
   "metadata": {},
   "outputs": [],
   "source": [
    "w = np.load('../../gd1-dr2/data/stream_model.npy')\n",
    "stream_w = gd.PhaseSpacePosition(pos=w[:, :3].T*u.kpc,\n",
    "                                 vel=w[:, 3:].T*u.km/u.s)\n",
    "model_c = stream_w.to_coord_frame(gc.GD1)\n",
    "model_c = model_c[(model_c.phi1.wrap_at(180*u.deg) < 20*u.deg) & \n",
    "                  (model_c.phi1.wrap_at(180*u.deg) > -100*u.deg)]\n",
    "model_c_ref = gc.reflex_correct(model_c)"
   ]
  },
  {
   "cell_type": "code",
   "execution_count": null,
   "metadata": {},
   "outputs": [],
   "source": [
    "# pts = np.array(np.vstack((g_ms.phi1[g_ms.stream_prob > 0.5],\n",
    "#                           g_ms.phi2[g_ms.stream_prob > 0.5])).T)\n",
    "pts = np.array(np.vstack((g_ms.phi1[g_ms.pm_mask & g_ms.gi_cmd_mask],\n",
    "                          g_ms.phi2[g_ms.pm_mask & g_ms.gi_cmd_mask])).T)"
   ]
  },
  {
   "cell_type": "code",
   "execution_count": null,
   "metadata": {},
   "outputs": [],
   "source": [
    "plt.figure(figsize=(15, 3))\n",
    "\n",
    "plt.plot(pts[:, 0], pts[:, 1], marker='.', ls='none', c='k')\n",
    "\n",
    "grid = np.linspace(-85, 30, 64)\n",
    "plt.plot(grid, phi1_to_phi2(grid))\n",
    "\n",
    "phi12_verts1 = np.vstack((grid, phi1_to_phi2(grid) - 1.5)).T\n",
    "phi12_verts2 = np.vstack((grid, phi1_to_phi2(grid) + 1.5)).T\n",
    "phi12_verts = np.vstack((phi12_verts1, phi12_verts2[::-1]))\n",
    "plt.gca().add_patch(mpl.patches.Polygon(phi12_verts, zorder=-100, alpha=0.2))\n",
    "\n",
    "phi12_verts1 = np.vstack((grid, phi1_to_phi2(grid) + 2)).T\n",
    "phi12_verts2 = np.vstack((grid, phi1_to_phi2(grid) + 3.5)).T\n",
    "off_verts1 = np.vstack((phi12_verts1, phi12_verts2[::-1]))\n",
    "\n",
    "phi12_verts1 = np.vstack((grid, phi1_to_phi2(grid) - 3.5)).T\n",
    "phi12_verts2 = np.vstack((grid, phi1_to_phi2(grid) - 2)).T\n",
    "off_verts2 = np.vstack((phi12_verts1, phi12_verts2[::-1]))\n",
    "\n",
    "plt.gca().add_patch(mpl.patches.Polygon(off_verts1, zorder=-100, color='tab:red', alpha=0.2))\n",
    "plt.gca().add_patch(mpl.patches.Polygon(off_verts2, zorder=-100, color='tab:red', alpha=0.2))\n",
    "\n",
    "# plt.axvline(-38)\n",
    "# plt.axvline(-22)\n",
    "# plt.axvline(-19)\n",
    "# plt.axvline(-8)\n",
    "\n",
    "plt.xlim(-85, 20)\n",
    "plt.ylim(-8, 4)\n",
    "\n",
    "plt.xlabel(r'$\\phi_1$ [deg]')\n",
    "plt.ylabel(r'$\\phi_2$ [deg]')\n",
    "\n",
    "plt.tight_layout()\n",
    "plt.savefig('../plots/apogee-targeting/phi12.png', dpi=250)"
   ]
  },
  {
   "cell_type": "code",
   "execution_count": null,
   "metadata": {},
   "outputs": [],
   "source": [
    "class MultiPoly:\n",
    "    def __init__(self, *polys):\n",
    "        self.polys = polys\n",
    "        \n",
    "    def contains_points(self, X):\n",
    "        mask = None\n",
    "        for poly in self.polys:\n",
    "            if mask is None:\n",
    "                mask = poly.contains_points(X)\n",
    "            else:\n",
    "                mask |= poly.contains_points(X)\n",
    "                \n",
    "        return mask\n",
    "    \n",
    "on_path = mpl.patches.Path(phi12_verts)\n",
    "off_path = MultiPoly(mpl.patches.Path(off_verts1), mpl.patches.Path(off_verts2))"
   ]
  },
  {
   "cell_type": "code",
   "execution_count": null,
   "metadata": {},
   "outputs": [],
   "source": [
    "X = np.array(np.vstack((g_ms.phi1, g_ms.phi2)).T)\n",
    "ms_phi_mask = on_path.contains_points(X)\n",
    "ms_off_phi_mask = off_path.contains_points(X)"
   ]
  },
  {
   "cell_type": "code",
   "execution_count": null,
   "metadata": {},
   "outputs": [],
   "source": [
    "np.save('../../gd1-dr2/output/phi12_poly.npy', phi12_verts)"
   ]
  },
  {
   "cell_type": "markdown",
   "metadata": {},
   "source": [
    "---"
   ]
  },
  {
   "cell_type": "code",
   "execution_count": null,
   "metadata": {},
   "outputs": [],
   "source": [
    "g_giants = GaiaData('../../gd1-dr2/data/gd1-2mass-wise.fits')"
   ]
  },
  {
   "cell_type": "code",
   "execution_count": null,
   "metadata": {},
   "outputs": [],
   "source": [
    "c = g_giants.get_skycoord(distance=8*u.kpc, radial_velocity=0*u.km/u.s)\n",
    "c_gd1 = gc.reflex_correct(c.transform_to(gc.GD1))\n",
    "\n",
    "phi1 = c_gd1.phi1.wrap_at(180*u.deg)\n",
    "phi2 = c_gd1.phi2\n",
    "pm1 = c_gd1.pm_phi1_cosphi2\n",
    "pm2 = c_gd1.pm_phi2"
   ]
  },
  {
   "cell_type": "markdown",
   "metadata": {},
   "source": [
    "Polygon selection"
   ]
  },
  {
   "cell_type": "code",
   "execution_count": null,
   "metadata": {},
   "outputs": [],
   "source": [
    "X = np.array(np.vstack((phi1, phi2)).T)\n",
    "\n",
    "phi_mask = on_path.contains_points(X) & (phi1 > -80*u.deg) & (phi1 < 20*u.deg)\n",
    "off_phi_mask = off_path.contains_points(X) & (phi1 > -65*u.deg) & (phi1 < 20*u.deg)\n",
    "phi_mask.sum(), off_phi_mask.sum()"
   ]
  },
  {
   "cell_type": "code",
   "execution_count": null,
   "metadata": {},
   "outputs": [],
   "source": [
    "orig_pm_poly = np.load('../../gd1-dr2/output/pm_poly.npy')\n",
    "pm_path1 = mpl.patches.Path(orig_pm_poly)\n",
    "\n",
    "aggr_pm_poly = np.array([[-9, 1.2],\n",
    "                         [-3, 1.2],\n",
    "                         [-3, -1.4],\n",
    "                         [-9, -1.4]])\n",
    "pm_path2 = mpl.patches.Path(aggr_pm_poly)\n",
    "\n",
    "# pm_mask = pm_path1.contains_points(np.vstack((pm1.value, pm2.value)).T)\n",
    "pm_mask = pm_path2.contains_points(np.vstack((pm1.value, pm2.value)).T)"
   ]
  },
  {
   "cell_type": "markdown",
   "metadata": {},
   "source": [
    "Make a more aggresive pm polygon because giants are bright!"
   ]
  },
  {
   "cell_type": "code",
   "execution_count": null,
   "metadata": {},
   "outputs": [],
   "source": [
    "fig, ax = plt.subplots(1, 1, figsize=(5, 5))\n",
    "\n",
    "ax.plot(model_c_ref.pm_phi1_cosphi2, model_c_ref.pm_phi2, \n",
    "        marker='.', ls='none')\n",
    "\n",
    "ax.add_patch(mpl.patches.Polygon(orig_pm_poly, alpha=0.2, \n",
    "                                 zorder=-100, color='tab:green'))\n",
    "\n",
    "ax.add_patch(mpl.patches.Polygon(aggr_pm_poly, alpha=0.2, \n",
    "                                 zorder=-100, color='tab:red'))\n",
    "    \n",
    "ax.set_xlim(-12, 0)\n",
    "ax.set_ylim(-6, 6)\n",
    "\n",
    "fig.tight_layout()"
   ]
  },
  {
   "cell_type": "code",
   "execution_count": null,
   "metadata": {},
   "outputs": [],
   "source": [
    "Z_sun = 0.0152\n",
    "isos = []\n",
    "fehs = [-2, -1.8, -1.6, -1.4]\n",
    "for feh in fehs:\n",
    "    iso_wise = get_one_isochrone(1.2e10, Z_sun * 10**feh, phot='2mass_spitzer_wise').to_astropy_table()\n",
    "    iso_gaia = get_one_isochrone(1.2e10, Z_sun * 10**feh, phot='gaiaDR2').to_astropy_table()\n",
    "    iso_ps1 = get_one_isochrone(1.2e10, Z_sun * 10**feh, phot='panstarrs1').to_astropy_table()\n",
    "    iso = hstack((iso_wise, \n",
    "                  iso_gaia['Gmag', 'G_BPmag', 'G_RPmag'], \n",
    "                  iso_ps1['gP1mag', 'rP1mag', 'iP1mag', 'zP1mag']))\n",
    "    iso = iso[(iso['label'] >= 1) & (iso['label'] <= 4)]\n",
    "    isos.append(iso)"
   ]
  },
  {
   "cell_type": "code",
   "execution_count": null,
   "metadata": {},
   "outputs": [],
   "source": [
    "A2mass = reddening(c, '2MASS', ['J', 'H', 'Ks'])\n",
    "Aps1 = reddening(c, 'PS1', 'gri')"
   ]
  },
  {
   "cell_type": "code",
   "execution_count": null,
   "metadata": {},
   "outputs": [],
   "source": [
    "mag = g_giants.h_m - A2mass[:, 1]\n",
    "col = g_giants.j_m - g_giants.ks_m - (A2mass[:, 0] - A2mass[:, 2])\n",
    "mag_mask = mag < 17\n",
    "\n",
    "# mag = g_giants.h_m - A2mass[:, 1]\n",
    "# col = g_giants.i_mean_psf_mag - g_giants.ks_m - (Aps1[:, 2] - A2mass[:, 2])\n",
    "# mag_mask = mag < 17"
   ]
  },
  {
   "cell_type": "code",
   "execution_count": null,
   "metadata": {},
   "outputs": [],
   "source": [
    "for mask in [phi_mask, off_phi_mask]:\n",
    "    fig, axes = plt.subplots(1, 2, figsize=(12, 6), sharex=True, sharey=True)\n",
    "\n",
    "    H, xe, ye = np.histogram2d(col[mask & pm_mask & mag_mask],\n",
    "                               mag[mask & pm_mask & mag_mask],\n",
    "                               bins=(np.arange(0., 2.5+1e-3, 0.03),\n",
    "                                     np.arange(8, 18+1e-3, 0.05)))\n",
    "    for ax in axes:\n",
    "        ax.pcolormesh(xe, ye, H.T, cmap='Greys', vmin=0, vmax=4)\n",
    "\n",
    "    for feh, iso in zip(fehs, isos):\n",
    "        iso_col = iso['Jmag'] - iso['Ksmag']\n",
    "        iso_mag = iso['Hmag'] + coord.Distance(8*u.kpc).distmod.value\n",
    "        axes[0].plot(iso_col, iso_mag, marker='', label=feh)\n",
    "\n",
    "    axes[0].legend(loc='best')\n",
    "\n",
    "    ax.set_xlim(-0.2, 1.2)\n",
    "    ax.set_ylim(17, 7)"
   ]
  },
  {
   "cell_type": "code",
   "execution_count": null,
   "metadata": {},
   "outputs": [],
   "source": [
    "giant_mask = ((mag < 14.) & \n",
    "              (col > 0.3) &\n",
    "              (col < 1.2))\n",
    "\n",
    "giant_mask.sum()"
   ]
  },
  {
   "cell_type": "markdown",
   "metadata": {},
   "source": [
    "Which ones have already been observed?"
   ]
  },
  {
   "cell_type": "code",
   "execution_count": null,
   "metadata": {},
   "outputs": [],
   "source": [
    "xmatch = Table.read('/Users/adrian/data/APOGEE_DR15beta/gaiadr2_allStar-t9-l31c-58158.fits')\n",
    "xmatch.rename_column('apstar_id', 'APSTAR_ID')\n",
    "apogee = Table.read('/Users/adrian/data/APOGEE_DR15beta/allStar-t9-l31c-58158.fits')\n",
    "\n",
    "stream_mask = (apogee['APOGEE2_TARGET1'] & (2**18 + 2**19)) != 0\n",
    "\n",
    "apogee_gaia = join(apogee[stream_mask], xmatch, keys='APSTAR_ID')\n",
    "ndim_cols = [x for x in apogee_gaia.columns if apogee_gaia[x].ndim == 1]\n",
    "apogee_gaia = apogee_gaia[ndim_cols]\n",
    "apogee_gaia = GaiaData(apogee_gaia[np.array(['GD1' in f for f in apogee_gaia['FIELD']])])\n",
    "apogee_c = apogee_gaia.get_skycoord(distance=8*u.kpc)\n",
    "apogee_gd1_c = gc.reflex_correct(apogee_c.transform_to(gc.GD1))"
   ]
  },
  {
   "cell_type": "code",
   "execution_count": null,
   "metadata": {},
   "outputs": [],
   "source": [
    "iso_l = isos[0][isos[0]['label'] == 3]\n",
    "iso_l = np.vstack((iso_l['Jmag'] - iso_l['Ksmag'] - 0.08,\n",
    "                   iso_l['Hmag'] + coord.Distance(7.8*u.kpc).distmod.value - 0.1)).T\n",
    "\n",
    "# iso_r = isos[-1][isos[-1]['label'] == 3]\n",
    "# iso_r = np.vstack((iso_r['Jmag'] - iso_r['Ksmag'] + 0.1,\n",
    "#                    iso_r['Hmag'] + coord.Distance(7.8*u.kpc).distmod.value - 0.1)).T\n",
    "\n",
    "iso_r = isos[2][isos[2]['label'] == 3]\n",
    "iso_r = np.vstack((iso_r['Jmag'] - iso_r['Ksmag'] + 0.1,\n",
    "                   iso_r['Hmag'] + coord.Distance(7.8*u.kpc).distmod.value - 0.1)).T\n",
    "\n",
    "iso_poly_verts = np.vstack((iso_l, iso_r[::-1]))\n",
    "iso_poly_verts.shape"
   ]
  },
  {
   "cell_type": "code",
   "execution_count": null,
   "metadata": {},
   "outputs": [],
   "source": [
    "# derp_mask = (phi1[mask & pm_mask & mag_mask] > -60*u.deg) & (phi1[mask & pm_mask & mag_mask] < -10*u.deg)\n",
    "\n",
    "colors = ['tab:blue', 'tab:orange', 'tab:red', 'tab:purple']\n",
    "\n",
    "fig, axes = plt.subplots(1, 3, figsize=(15, 5), sharex=True, sharey=True)\n",
    "\n",
    "ax = axes[0]\n",
    "ax.scatter(apogee_gaia.J-apogee_gaia.K,\n",
    "           apogee_gaia.H, \n",
    "           color='k', alpha=0.7, lw=0, label=None)\n",
    "ax.set_title('APOGEE GD-1')\n",
    "\n",
    "ax = axes[1]\n",
    "ax.scatter(col[phi_mask & pm_mask & mag_mask & giant_mask],\n",
    "           mag[phi_mask & pm_mask & mag_mask & giant_mask], \n",
    "           color='k', alpha=0.7, lw=0, label=None)\n",
    "ax.set_title('New RGB candidates')\n",
    "\n",
    "ax = axes[2]\n",
    "ax.scatter(col[off_phi_mask & pm_mask & mag_mask & giant_mask],\n",
    "           mag[off_phi_mask & pm_mask & mag_mask & giant_mask], \n",
    "           color='k', alpha=0.7, lw=0, label=None)\n",
    "ax.set_title('RGB candidates in off field')\n",
    "\n",
    "for ax in axes:\n",
    "    for feh, _iso, color in zip(fehs, isos, colors):\n",
    "        for ph in np.unique(_iso['label']):\n",
    "            iso = _iso[_iso['label'] == ph]\n",
    "            iso_col = iso['Jmag'] - iso['Ksmag']\n",
    "\n",
    "            for d in [8]:\n",
    "                iso_mag = iso['Hmag'] + coord.Distance(d*u.kpc).distmod.value\n",
    "                ax.plot(iso_col, iso_mag, marker='', \n",
    "                        label='[Fe/H] = {:.1f}'.format(feh), color=color)\n",
    "\n",
    "    ax.add_patch(mpl.patches.Polygon(iso_poly_verts, alpha=0.2, \n",
    "                                     zorder=-100, color='tab:green'))\n",
    "    ax.set_xlabel('$(J-K_s)_0$')\n",
    "    \n",
    "ax.set_xlim(0.35, 1.1)\n",
    "ax.set_ylim(14, 8)\n",
    "\n",
    "axes[0].set_ylabel('$H_0$')\n",
    "\n",
    "fig.tight_layout()\n",
    "\n",
    "fig.savefig('../plots/apogee-targeting/2MASS-cmd.png', dpi=250)"
   ]
  },
  {
   "cell_type": "code",
   "execution_count": null,
   "metadata": {},
   "outputs": [],
   "source": [
    "fig, axes = plt.subplots(1, 3, figsize=(15, 5), sharex=True, sharey=True)\n",
    "\n",
    "ax = axes[0]\n",
    "ax.scatter(apogee_gd1_c.pm_phi1_cosphi2,\n",
    "           apogee_gd1_c.pm_phi2,\n",
    "           color='k', alpha=0.7, lw=0, label=None)\n",
    "ax.set_title('APOGEE GD-1')\n",
    "\n",
    "ax.plot(model_c_ref.pm_phi1_cosphi2, model_c_ref.pm_phi2, \n",
    "        marker='.', ls='none')\n",
    "\n",
    "ax = axes[1]\n",
    "ax.scatter(c_gd1.pm_phi1_cosphi2[phi_mask & mag_mask & giant_mask],\n",
    "           c_gd1.pm_phi2[phi_mask & mag_mask & giant_mask], \n",
    "           marker='o', color='k', alpha=0.3, lw=0, label=None, s=12)\n",
    "ax.set_title('New RGB candidates')\n",
    "# ax.plot(model_c_ref.pm_phi1_cosphi2, model_c_ref.pm_phi2, \n",
    "#         marker='.', ls='none')\n",
    "\n",
    "ax = axes[2]\n",
    "ax.scatter(c_gd1.pm_phi1_cosphi2[off_phi_mask & mag_mask & giant_mask],\n",
    "           c_gd1.pm_phi2[off_phi_mask & mag_mask & giant_mask], \n",
    "           marker='o', color='k', alpha=0.3, lw=0, label=None, s=12)\n",
    "ax.set_title('RGB candidates in off field')\n",
    "\n",
    "for ax in axes:\n",
    "    ax.add_patch(mpl.patches.Polygon(aggr_pm_poly, alpha=0.2, \n",
    "                                     zorder=-100, color='tab:green'))\n",
    "    ax.set_xlabel(r'$\\mu_1 \\, \\cos\\phi_2$')\n",
    "    \n",
    "ax.set_xlim(-12, 0)\n",
    "ax.set_ylim(-6, 6)\n",
    "\n",
    "axes[0].set_ylabel(r'$\\mu_2$')\n",
    "\n",
    "fig.tight_layout()\n",
    "\n",
    "fig.savefig('../plots/apogee-targeting/pm-sel.png', dpi=250)"
   ]
  },
  {
   "cell_type": "code",
   "execution_count": null,
   "metadata": {},
   "outputs": [],
   "source": [
    "idx, sep, _ = c.match_to_catalog_sky(apogee_c)\n",
    "prev_sep_mask = sep > 2*u.arcsec\n",
    "prev_sep_mask.sum()"
   ]
  },
  {
   "cell_type": "code",
   "execution_count": null,
   "metadata": {},
   "outputs": [],
   "source": [
    "iso_path = mpl.patches.Path(iso_poly_verts)\n",
    "X = np.vstack((col, mag)).T\n",
    "iso_mask = iso_path.contains_points(X) & (X[:, 1] < 14.)\n",
    "\n",
    "(giant_mask & iso_mask & prev_sep_mask).sum()"
   ]
  },
  {
   "cell_type": "code",
   "execution_count": null,
   "metadata": {},
   "outputs": [],
   "source": [
    "fig, axes = plt.subplots(2, 1, figsize=(8, 5),sharex=True, sharey=True)\n",
    "\n",
    "axes[0].plot(phi1[phi_mask & pm_mask & mag_mask & giant_mask & iso_mask & prev_sep_mask], \n",
    "             phi2[phi_mask & pm_mask & mag_mask & giant_mask & iso_mask & prev_sep_mask], \n",
    "             marker='.', ls='none', color='k')\n",
    "axes[0].set_title('RGB candidates')\n",
    "\n",
    "axes[1].plot(pts[:, 0], pts[:, 1], marker='.', ls='none', color='k')\n",
    "axes[1].set_title('MSTO')\n",
    "\n",
    "axes[0].set_ylabel(r'$\\phi_2$ [deg]')\n",
    "axes[1].set_xlabel(r'$\\phi_1$ [deg]')\n",
    "axes[1].set_ylabel(r'$\\phi_2$ [deg]')\n",
    "\n",
    "for ax in axes:\n",
    "    ax.axhline(0, zorder=-10, color='#aaaaaa', alpha=0.5)\n",
    "#     ax.set_xlim(-60, 10)\n",
    "#     ax.set_aspect('equal')\n",
    "\n",
    "ax.set_ylim(-6, 4)\n",
    "\n",
    "fig.tight_layout()\n",
    "\n",
    "fig.savefig('../plots/apogee-targeting/RGB-candidates.png', dpi=250)"
   ]
  },
  {
   "cell_type": "code",
   "execution_count": null,
   "metadata": {},
   "outputs": [],
   "source": [
    "proposed_fields = [(-68, -1.6),\n",
    "                   (-59, -0.8), (-56.6, -0.5),\n",
    "                   (-48.5, -0.2),\n",
    "                   (-45., -0.1), (-41.5, 0.05),\n",
    "                   (-38, 0), \n",
    "                   (-35, 1), (-31, 1),\n",
    "                   (-24.5, 0),\n",
    "                   (-11.5, -0.2), (-9.5, -0.3),\n",
    "                   (0.3, -1.1), (3.2, -1.3), (5.2, -1.5)]\n",
    "\n",
    "fig, axes = plt.subplots(2, 1, figsize=(8, 5),sharex=True, sharey=True)\n",
    "\n",
    "axes[0].plot(phi1[phi_mask & pm_mask & mag_mask & giant_mask & iso_mask & prev_sep_mask], \n",
    "             phi2[phi_mask & pm_mask & mag_mask & giant_mask & iso_mask & prev_sep_mask], \n",
    "             marker='.', ls='none', color='k')\n",
    "axes[0].set_title('RGB candidates')\n",
    "\n",
    "# axes[1].plot(pts[:, 0], pts[:, 1], marker='.', ls='none', color='k')\n",
    "axes[1].plot(g_ms.phi1[g_ms.pm_mask & g_ms.gi_cmd_mask], \n",
    "             g_ms.phi2[g_ms.pm_mask & g_ms.gi_cmd_mask], \n",
    "             marker='.', ls='none', color='k')\n",
    "\n",
    "axes[1].set_title('MSTO')\n",
    "\n",
    "axes[0].set_ylabel(r'$\\phi_2$ [deg]')\n",
    "axes[1].set_xlabel(r'$\\phi_1$ [deg]')\n",
    "axes[1].set_ylabel(r'$\\phi_2$ [deg]')\n",
    "\n",
    "for ax in axes:\n",
    "    ax.axhline(0, zorder=-10, color='#aaaaaa', alpha=0.5)\n",
    "    ax.set_xlim(-80, 10)\n",
    "    ax.set_ylim(-4, 4)\n",
    "    \n",
    "fig.tight_layout()\n",
    "\n",
    "grid = np.linspace(-120, 40, 128)\n",
    "for ax in axes:\n",
    "    ax.plot(grid, phi1_to_phi2(grid), marker='', zorder=-10)\n",
    "    for field_c in proposed_fields:\n",
    "        ax.add_patch(mpl.patches.Circle(field_c, radius=0.9, \n",
    "                                        zorder=-10, facecolor='none', edgecolor='tab:red',\n",
    "                                        linewidth=2))\n",
    "        \n",
    "fig.savefig('../plots/apogee-targeting/proposed-fields.png', dpi=250)"
   ]
  },
  {
   "cell_type": "code",
   "execution_count": null,
   "metadata": {},
   "outputs": [],
   "source": [
    "len(proposed_fields)"
   ]
  },
  {
   "cell_type": "markdown",
   "metadata": {},
   "source": [
    "### Write out the candidates:"
   ]
  },
  {
   "cell_type": "code",
   "execution_count": null,
   "metadata": {},
   "outputs": [],
   "source": [
    "cands = g_giants[phi_mask & pm_mask & mag_mask & giant_mask & iso_mask & prev_sep_mask]\n",
    "print(len(cands))\n",
    "cands.data.write('../output/apogee-RGB-GD-1-candidates.fits', overwrite=True)"
   ]
  },
  {
   "cell_type": "code",
   "execution_count": null,
   "metadata": {},
   "outputs": [],
   "source": [
    "cands.data.colnames"
   ]
  },
  {
   "cell_type": "code",
   "execution_count": null,
   "metadata": {},
   "outputs": [],
   "source": [
    "H0 = cands.h_m - A2mass[phi_mask & pm_mask & mag_mask & giant_mask & iso_mask & prev_sep_mask, 1]"
   ]
  },
  {
   "cell_type": "code",
   "execution_count": null,
   "metadata": {},
   "outputs": [],
   "source": [
    "plt.hist(H0, bins='auto');\n",
    "plt.xlabel('$H_0$ [mag]')\n",
    "plt.ylabel('$N$')\n",
    "plt.tight_layout()\n",
    "plt.savefig('../plots/apogee-targeting/H-mag.png', dpi=250)"
   ]
  },
  {
   "cell_type": "markdown",
   "metadata": {},
   "source": [
    "---\n",
    "\n",
    "# How many RGB do we expect?"
   ]
  },
  {
   "cell_type": "code",
   "execution_count": null,
   "metadata": {},
   "outputs": [],
   "source": [
    "# (g_ms.phi1 > -38*u.deg) & (g_ms.phi1 < -22*u.deg) &\n",
    "#                                 (g_ms.phi2 < 0.55*u.deg)\n",
    "\n",
    "#  (g_ms.phi1 > -19*u.deg) & (g_ms.phi1 < -8*u.deg) &\n",
    "#                                 (g_ms.phi2 > -0.55*u.deg)"
   ]
  },
  {
   "cell_type": "code",
   "execution_count": null,
   "metadata": {},
   "outputs": [],
   "source": [
    "fig, axes = plt.subplots(1,2,figsize=(12, 6),sharex=True,sharey=True)\n",
    "\n",
    "for ax in axes:\n",
    "    ax.plot((g_ms.g0 - g_ms.z0)[ms_phi_mask & g_ms.pm_mask & \n",
    "                                (g_ms.phi1 > -60*u.deg) & (g_ms.phi1 < -10*u.deg)], \n",
    "            g_ms.g0[ms_phi_mask & g_ms.pm_mask & \n",
    "                    (g_ms.phi1 > -60*u.deg) & (g_ms.phi1 < -10*u.deg)],\n",
    "            ls='none', marker='.', color='k', alpha=0.4, label=None)\n",
    "\n",
    "ax.set_xlim(-0.75, 1.4)\n",
    "ax.set_ylim(21, 13.)\n",
    "\n",
    "# ax.set_xlabel('$J-K_s$')\n",
    "# ax.set_ylabel('$H$')\n",
    "\n",
    "for feh, _iso, color in zip(fehs, isos, colors):\n",
    "    for ph in np.unique(_iso['label']):\n",
    "        iso = _iso[_iso['label'] == ph]\n",
    "        iso_col = iso['gP1mag'] - iso['zP1mag']\n",
    "        iso_mag = iso['gP1mag'] + coord.Distance(7.5*u.kpc).distmod.value\n",
    "        if ph == 3:\n",
    "            label = '[Fe/H] = {:.1f}'.format(feh)\n",
    "        else:\n",
    "            label = None\n",
    "        ax.plot(iso_col, iso_mag, marker='', label=label, color=color)\n",
    "\n",
    "# ax.legend(loc='best', fontsize=12)\n",
    "\n",
    "fig.tight_layout()"
   ]
  },
  {
   "cell_type": "code",
   "execution_count": null,
   "metadata": {},
   "outputs": [],
   "source": [
    "ngc = GaiaData('/Users/adrian/Downloads/NGC6981.fits')\n",
    "ngc_c = ngc6205.get_skycoord(distance=False)\n",
    "\n",
    "plt.plot(ngc6205_c.ra.degree, ngc6205_c.dec.degree, marker='.', ls='none', alpha=0.2)"
   ]
  },
  {
   "cell_type": "code",
   "execution_count": null,
   "metadata": {},
   "outputs": [],
   "source": [
    "ngc6205 = GaiaData('/Users/adrian/Downloads/NGC6981.fits')\n",
    "ngc6205_c = ngc6205.get_skycoord(distance=False)\n",
    "\n",
    "_idx = ngc6205_c.separation(coord.SkyCoord.from_name('NGC 6981')) < 0.12*u.deg\n",
    "ngc6205 = ngc6205[_idx]\n",
    "ngc6205_c = ngc6205.get_skycoord(distance=False)\n",
    "\n",
    "Agri = reddening(ngc6205_c, 'PS1', 'gri')\n",
    "\n",
    "ngc6205_mag = np.vstack((ngc6205.g_mean_psf_mag - Agri[:, 0],\n",
    "                         ngc6205.r_mean_psf_mag - Agri[:, 1],\n",
    "                         ngc6205.i_mean_psf_mag - Agri[:, 2])).T"
   ]
  },
  {
   "cell_type": "code",
   "execution_count": null,
   "metadata": {},
   "outputs": [],
   "source": [
    "fig, axes = plt.subplots(1,2,figsize=(12, 6),sharex=True,sharey=True)\n",
    "\n",
    "ax = axes[0]\n",
    "ax.plot(ngc6205_mag[:, 0]-ngc6205_mag[:, 2], \n",
    "        ngc6205_mag[:, 0] - coord.Distance(17.9*u.kpc).distmod.value, #+ coord.Distance(7.8*u.kpc).distmod.value,\n",
    "        ls='none', marker='.', color='k', alpha=0.4, label=None)\n",
    "\n",
    "ax = axes[1]\n",
    "ax.plot((g_ms.g0 - g_ms.z0)[ms_phi_mask & g_ms.pm_mask & g_ms.gi_cmd_mask], \n",
    "            g_ms.g0[ms_phi_mask & g_ms.pm_mask & g_ms.gi_cmd_mask] - coord.Distance(7.8*u.kpc).distmod,\n",
    "        ls='none', marker='.', color='k', alpha=0.4, label=None)\n",
    "\n",
    "ax.set_xlim(-0.75, 1.4)\n",
    "ax.set_ylim(6, -4.)\n",
    "\n",
    "_nodes1 = np.array([[0.2, 4.2],\n",
    "                    [0.35, 4.2],\n",
    "                    [0.35, 3.5],\n",
    "                    [0.2, 3.5]])\n",
    "\n",
    "_nodes2 = np.array([[0.55, 3.4],\n",
    "                    [0.85, 0.3],\n",
    "                    [0.7, 0.3],\n",
    "                    [0.4, 3.4]])\n",
    "\n",
    "for ax in axes:\n",
    "    ax.plot(_nodes1[:, 0], _nodes1[:, 1], color='r', zorder=10)\n",
    "    ax.plot(_nodes2[:, 0], _nodes2[:, 1], color='b', zorder=10)\n",
    "\n",
    "fig.tight_layout()"
   ]
  },
  {
   "cell_type": "code",
   "execution_count": null,
   "metadata": {},
   "outputs": [],
   "source": [
    "X = np.vstack((ngc6205_mag[:, 0]-ngc6205_mag[:, 2], \n",
    "               ngc6205_mag[:, 0] - coord.Distance(17.9*u.kpc).distmod.value)).T\n",
    "Nmsto = mpl.patches.Path(_nodes1).contains_points(X).sum()\n",
    "Nrgb = mpl.patches.Path(_nodes2).contains_points(X).sum()\n",
    "\n",
    "\n",
    "X = np.vstack(((g_ms.g0 - g_ms.z0)[ms_phi_mask & g_ms.pm_mask & g_ms.gi_cmd_mask], \n",
    "               g_ms.g0[ms_phi_mask & g_ms.pm_mask & g_ms.gi_cmd_mask] - coord.Distance(7.8*u.kpc).distmod)).T\n",
    "Nmsto_gd1 = mpl.patches.Path(_nodes1).contains_points(X).sum()\n",
    "\n",
    "X = np.vstack(((g_ms.g0 - g_ms.z0)[ms_off_phi_mask & g_ms.pm_mask & g_ms.gi_cmd_mask], \n",
    "               g_ms.g0[ms_off_phi_mask & g_ms.pm_mask & g_ms.gi_cmd_mask] - coord.Distance(7.8*u.kpc).distmod)).T\n",
    "Nmsto_bg = mpl.patches.Path(_nodes1).contains_points(X).sum()"
   ]
  },
  {
   "cell_type": "code",
   "execution_count": null,
   "metadata": {},
   "outputs": [],
   "source": [
    "Nrgb / Nmsto * (Nmsto_gd1 - Nmsto_bg)"
   ]
  },
  {
   "cell_type": "code",
   "execution_count": null,
   "metadata": {},
   "outputs": [],
   "source": []
  },
  {
   "cell_type": "code",
   "execution_count": null,
   "metadata": {},
   "outputs": [],
   "source": []
  },
  {
   "cell_type": "code",
   "execution_count": null,
   "metadata": {},
   "outputs": [],
   "source": []
  },
  {
   "cell_type": "markdown",
   "metadata": {},
   "source": [
    "Check Harris for a cluster \"like\" GD-1"
   ]
  },
  {
   "cell_type": "code",
   "execution_count": null,
   "metadata": {},
   "outputs": [],
   "source": [
    "tbl = Table.read('/Users/adrian/data/Misc/Harris-globclust.fits')\n",
    "\n",
    "tbl = tbl[(tbl['metallicity'] < -1.3) & (tbl['metallicity'] > -1.7) &\n",
    "          (np.abs(tbl['bii']) > 30) & (tbl['helio_distance'] < 25)]\n",
    "tbl"
   ]
  },
  {
   "cell_type": "code",
   "execution_count": null,
   "metadata": {},
   "outputs": [],
   "source": []
  },
  {
   "cell_type": "code",
   "execution_count": null,
   "metadata": {},
   "outputs": [],
   "source": []
  },
  {
   "cell_type": "code",
   "execution_count": null,
   "metadata": {},
   "outputs": [],
   "source": []
  },
  {
   "cell_type": "code",
   "execution_count": null,
   "metadata": {},
   "outputs": [],
   "source": []
  }
 ],
 "metadata": {
  "kernelspec": {
   "display_name": "Python [default]",
   "language": "python",
   "name": "python3"
  },
  "language_info": {
   "codemirror_mode": {
    "name": "ipython",
    "version": 3
   },
   "file_extension": ".py",
   "mimetype": "text/x-python",
   "name": "python",
   "nbconvert_exporter": "python",
   "pygments_lexer": "ipython3",
   "version": "3.6.4"
  }
 },
 "nbformat": 4,
 "nbformat_minor": 2
}