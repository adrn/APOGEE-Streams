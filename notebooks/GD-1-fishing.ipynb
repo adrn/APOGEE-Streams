{
 "cells": [
  {
   "cell_type": "code",
   "execution_count": null,
   "metadata": {},
   "outputs": [],
   "source": [
    "import astropy.coordinates as coord\n",
    "import astropy.units as u\n",
    "from astropy.table import Table, join, vstack\n",
    "import numpy as np\n",
    "import matplotlib as mpl\n",
    "import matplotlib.pyplot as plt\n",
    "%matplotlib inline\n",
    "from astropy.io import ascii\n",
    "\n",
    "from scipy.interpolate import interp1d\n",
    "from scipy.stats import binned_statistic\n",
    "\n",
    "import gala.coordinates as gc\n",
    "import gala.dynamics as gd\n",
    "from gala.units import galactic\n",
    "from pyia import GaiaData"
   ]
  },
  {
   "cell_type": "code",
   "execution_count": null,
   "metadata": {},
   "outputs": [],
   "source": [
    "pm_poly = np.load('../../gd1-dr2/output/pm_poly.npy')\n",
    "phi_poly = np.load('../../gd1-dr2/output/phi12_poly.npy')"
   ]
  },
  {
   "cell_type": "code",
   "execution_count": null,
   "metadata": {},
   "outputs": [],
   "source": [
    "w = np.load('../../gd1-dr2/data/stream_model.npy')\n",
    "stream_w = gd.PhaseSpacePosition(pos=w[:, :3].T*u.kpc,\n",
    "                                 vel=w[:, 3:].T*u.km/u.s)\n",
    "model_c = stream_w.to_coord_frame(gc.GD1)\n",
    "model_c = model_c[(model_c.phi1.wrap_at(180*u.deg) < 20*u.deg) & \n",
    "                  (model_c.phi1.wrap_at(180*u.deg) > -100*u.deg)]\n",
    "model_c_ref = gc.reflex_correct(model_c)"
   ]
  },
  {
   "cell_type": "code",
   "execution_count": null,
   "metadata": {},
   "outputs": [],
   "source": [
    "stat = binned_statistic(model_c.phi1.wrap_at(180*u.deg).value,\n",
    "                        model_c.radial_velocity.to(u.km/u.s).value,\n",
    "                        bins=np.linspace(-140, 50, 128))\n",
    "phi1_to_rv = interp1d(0.5 * (stat.bin_edges[:-1]+stat.bin_edges[1:]), \n",
    "                      stat.statistic, bounds_error=False)"
   ]
  },
  {
   "cell_type": "code",
   "execution_count": null,
   "metadata": {},
   "outputs": [],
   "source": [
    "gd1_g = GaiaData('../../gd1-dr2/data/gd1-master.fits')"
   ]
  },
  {
   "cell_type": "code",
   "execution_count": null,
   "metadata": {},
   "outputs": [],
   "source": [
    "gd1_c = gd1_g[gd1_g.gi_cmd_mask & gd1_g.pm_mask].get_skycoord(distance=False)\n",
    "gd1_c = gd1_c.transform_to(gc.GD1)\n",
    "\n",
    "gd1_phi1 = gd1_c.phi1.wrap_at(180*u.deg)\n",
    "gd1_phi2 = gd1_c.phi2\n",
    "gd1_pm1 = gd1_c.pm_phi1_cosphi2.to(u.mas/u.yr)\n",
    "gd1_pm2 = gd1_c.pm_phi2.to(u.mas/u.yr)"
   ]
  },
  {
   "cell_type": "code",
   "execution_count": null,
   "metadata": {},
   "outputs": [],
   "source": [
    "kop_vr = ascii.read(\"\"\"phi1 phi2 vr err\n",
    "-45.23 -0.04 28.8 6.9\n",
    "-43.17 -0.09 29.3 10.2\n",
    "-39.54 -0.07 2.9  8.7\n",
    "-39.25 -0.22 -5.2 6.5\n",
    "-37.95 0.00 1.1   5.6\n",
    "-37.96 -0.00 -11.7 11.2\n",
    "-35.49 -0.05 -50.4 5.2\n",
    "-35.27 -0.02 -30.9 12.8\n",
    "-34.92 -0.15 -35.3 7.5\n",
    "-34.74 -0.08 -30.9 9.2\n",
    "-33.74 -0.18 -74.3 9.8\n",
    "-32.90 -0.15 -71.5 9.6\n",
    "-32.25 -0.17 -71.5 9.2\n",
    "-29.95 -0.00 -92.7 8.7\n",
    "-26.61 -0.11 -114.2 7.3\n",
    "-25.45 -0.14 -67.8 7.1\n",
    "-24.86 0.01 -111.2 17.8\n",
    "-21.21 -0.02 -144.4 10.5\n",
    "-14.47 -0.15 -179.0 10.0\n",
    "-13.73 -0.28 -191.4 7.5\n",
    "-13.02 -0.21 -162.9 9.6\n",
    "-12.68 -0.26 -217.2 10.7\n",
    "-12.55 -0.23 -172.2 6.6\"\"\")"
   ]
  },
  {
   "cell_type": "markdown",
   "metadata": {},
   "source": [
    "---\n",
    "\n",
    "# APOGEE"
   ]
  },
  {
   "cell_type": "code",
   "execution_count": null,
   "metadata": {},
   "outputs": [],
   "source": [
    "xmatch = Table.read('/Users/adrian/data/APOGEE_DR15beta/gaiadr2_allStar-t9-l31c-58158.fits')\n",
    "xmatch.rename_column('apstar_id', 'APSTAR_ID')"
   ]
  },
  {
   "cell_type": "code",
   "execution_count": null,
   "metadata": {},
   "outputs": [],
   "source": [
    "apogee = Table.read('/Users/adrian/data/APOGEE_DR15beta/allStar-t9-l31c-58158.fits')"
   ]
  },
  {
   "cell_type": "code",
   "execution_count": null,
   "metadata": {},
   "outputs": [],
   "source": [
    "apogee_gaia = join(apogee, xmatch, keys='APSTAR_ID')\n",
    "ndim_cols = [x for x in apogee_gaia.columns if apogee_gaia[x].ndim == 1]\n",
    "apogee_gaia = apogee_gaia[ndim_cols]\n",
    "\n",
    "# select distance stuff\n",
    "apogee_gaia = apogee_gaia[(apogee_gaia['parallax'] < 1.) | ((apogee_gaia['parallax'] - apogee_gaia['parallax_error']) < 1.)]\n",
    "\n",
    "g = GaiaData(apogee_gaia)\n",
    "len(g)"
   ]
  },
  {
   "cell_type": "code",
   "execution_count": null,
   "metadata": {},
   "outputs": [],
   "source": [
    "c = g.get_skycoord(distance=8*u.kpc, \n",
    "                   radial_velocity=np.array(g.VHELIO_AVG)*u.km/u.s)\n",
    "c = gc.reflex_correct(c.transform_to(gc.GD1))\n",
    "\n",
    "phi1 = c.phi1.wrap_at(180*u.deg)\n",
    "phi2 = c.phi2\n",
    "\n",
    "pm1 = c.pm_phi1_cosphi2.to(u.mas/u.yr)\n",
    "pm2 = c.pm_phi2.to(u.mas/u.yr)"
   ]
  },
  {
   "cell_type": "code",
   "execution_count": null,
   "metadata": {},
   "outputs": [],
   "source": [
    "gd1_mask = ((phi1 > -120*u.deg) & (phi1 < 40*u.deg) &\n",
    "            (phi2 > -10*u.deg) & (phi2 < 5*u.deg))\n",
    "\n",
    "phi_mask = mpl.patches.Path(phi_poly).contains_points(np.vstack((phi1, phi2)).T)\n",
    "pm_mask = mpl.patches.Path(pm_poly).contains_points(np.vstack((pm1, pm2)).T)"
   ]
  },
  {
   "cell_type": "code",
   "execution_count": null,
   "metadata": {
    "scrolled": true
   },
   "outputs": [],
   "source": [
    "fig, ax = plt.subplots(1, 1, figsize=(15, 3))\n",
    "\n",
    "ax.plot(phi1[gd1_mask], phi2[gd1_mask], \n",
    "        marker='o', mec='tab:blue', mew=1, mfc='none',\n",
    "        ls='none', alpha=0.5)\n",
    "\n",
    "ax.plot(gd1_phi1, gd1_phi2, \n",
    "        marker='.', ls='none', alpha=0.5, color='k')\n",
    "\n",
    "ax.set_xlim(-100, 20)\n",
    "ax.set_ylim(-10, 5)\n",
    "ax.set_aspect('equal')\n",
    "\n",
    "ax.set_xlabel(r'$\\phi_1$')\n",
    "ax.set_ylabel(r'$\\phi_2$')\n",
    "\n",
    "fig.tight_layout()\n",
    "# fig.savefig('../plots/full-phi1phi2.png', dpi=250)"
   ]
  },
  {
   "cell_type": "code",
   "execution_count": null,
   "metadata": {},
   "outputs": [],
   "source": [
    "fig, ax = plt.subplots(1, 1, figsize=(5, 5))\n",
    "\n",
    "ax.plot(pm1[gd1_mask & phi_mask], pm2[gd1_mask & phi_mask],  \n",
    "        marker='.', ls='none', alpha=0.2, color='k')\n",
    "\n",
    "pm_path = mpl.patches.Polygon(pm_poly, \n",
    "                              facecolor='none', edgecolor='k')\n",
    "ax.add_patch(pm_path)\n",
    "\n",
    "ax.scatter(model_c_ref.pm_phi1_cosphi2.to(u.mas/u.yr), \n",
    "           model_c_ref.pm_phi2.to(u.mas/u.yr), \n",
    "           zorder=-100, color='#aaaaaa')\n",
    "\n",
    "ax.set_xlim(-15, 15)\n",
    "ax.set_ylim(-15, 15)\n",
    "\n",
    "ax.set_xlabel(r'$\\mu_1 \\, \\cos\\phi_2$')\n",
    "ax.set_ylabel(r'$\\mu_2$')\n",
    "fig.tight_layout()"
   ]
  },
  {
   "cell_type": "code",
   "execution_count": null,
   "metadata": {},
   "outputs": [],
   "source": [
    "fig, ax = plt.subplots(1, 1, figsize=(8, 6))\n",
    "\n",
    "rv = g.VHELIO_AVG\n",
    "\n",
    "ax.scatter(phi1[gd1_mask & phi_mask & pm_mask], rv[gd1_mask & phi_mask & pm_mask], \n",
    "           marker='o', color='tab:blue', linewidth=1, facecolor='none',\n",
    "           alpha=1, s=25, label='APOGEE')\n",
    "\n",
    "drv = np.abs(phi1_to_rv(phi1.value) - rv)\n",
    "rv_members_mask = drv < 30.\n",
    "\n",
    "ax.scatter(phi1[gd1_mask & phi_mask & pm_mask & rv_members_mask],\n",
    "           rv[gd1_mask & phi_mask & pm_mask & rv_members_mask], \n",
    "           color='tab:red', label='[Fe/H]+Gaia members')\n",
    "\n",
    "ax.plot(kop_vr['phi1'], kop_vr['vr'], \n",
    "        marker='o', ls='none', alpha=0.75, color='k', \n",
    "        label='Koposov/SEGUE')\n",
    "\n",
    "ax.scatter(model_c.phi1.wrap_at(180*u.deg),\n",
    "           model_c.radial_velocity.to(u.km/u.s), \n",
    "           zorder=-100, color='#aaaaaa',\n",
    "           label='model')\n",
    "\n",
    "ax.set_xlim(-100, 20)\n",
    "ax.set_ylim(-350, 350)\n",
    "\n",
    "ax.set_xlabel(r'$\\phi_1$ [deg]')\n",
    "\n",
    "ax.legend(loc='upper right', fontsize=18)\n",
    "ax.set_ylabel(r'$v_r$ [{0:latex_inline}]'.format(u.km/u.s))\n",
    "fig.tight_layout()"
   ]
  },
  {
   "cell_type": "code",
   "execution_count": null,
   "metadata": {},
   "outputs": [],
   "source": [
    "(gd1_mask & phi_mask & pm_mask & rv_members_mask).sum()"
   ]
  },
  {
   "cell_type": "code",
   "execution_count": null,
   "metadata": {},
   "outputs": [],
   "source": [
    "feh_mask = (g.M_H < -1) & (g.M_H > -2.1)"
   ]
  },
  {
   "cell_type": "code",
   "execution_count": null,
   "metadata": {},
   "outputs": [],
   "source": [
    "fig, ax = plt.subplots(1, 1, figsize=(8, 6))\n",
    "\n",
    "ax.errorbar(g.M_H[gd1_mask & phi_mask & pm_mask], \n",
    "            g.ALPHA_M[(gd1_mask & phi_mask & pm_mask)], \n",
    "            xerr=g.M_H_ERR[(gd1_mask & phi_mask & pm_mask)], \n",
    "            yerr=g.ALPHA_M_ERR[(gd1_mask & phi_mask & pm_mask)], \n",
    "            marker='o', ls='none', color='k', ecolor='#aaaaaa', alpha=0.5)\n",
    "\n",
    "ax.scatter(g.M_H[gd1_mask & phi_mask & pm_mask & rv_members_mask], \n",
    "           g.ALPHA_M[gd1_mask & phi_mask & pm_mask & rv_members_mask], \n",
    "           marker='o', color='tab:red', alpha=0.75, zorder=100, s=50)\n",
    "\n",
    "ax.axvspan(-2, -1, lw=0, zorder=-100, color='tab:blue', alpha=0.1)\n",
    "\n",
    "ax.set_xlim(-2.5, 0.5)\n",
    "ax.set_ylim(-0.2, 0.7)"
   ]
  },
  {
   "cell_type": "code",
   "execution_count": null,
   "metadata": {},
   "outputs": [],
   "source": [
    "(gd1_mask & phi_mask & pm_mask & rv_members_mask & feh_mask).sum()"
   ]
  },
  {
   "cell_type": "code",
   "execution_count": null,
   "metadata": {},
   "outputs": [],
   "source": [
    "members = g[gd1_mask & phi_mask & pm_mask & rv_members_mask & feh_mask]"
   ]
  },
  {
   "cell_type": "code",
   "execution_count": null,
   "metadata": {},
   "outputs": [],
   "source": [
    "members.J - members.K"
   ]
  },
  {
   "cell_type": "code",
   "execution_count": null,
   "metadata": {},
   "outputs": [],
   "source": [
    "members.H"
   ]
  },
  {
   "cell_type": "code",
   "execution_count": null,
   "metadata": {},
   "outputs": [],
   "source": [
    "members.LOGG"
   ]
  },
  {
   "cell_type": "code",
   "execution_count": null,
   "metadata": {},
   "outputs": [],
   "source": [
    "members.TEFF"
   ]
  },
  {
   "cell_type": "code",
   "execution_count": null,
   "metadata": {},
   "outputs": [],
   "source": [
    "members.get_skycoord(distance=False).transform_to(gc.GD1).phi1.wrap_at(180*u.deg)[0]"
   ]
  },
  {
   "cell_type": "code",
   "execution_count": null,
   "metadata": {},
   "outputs": [],
   "source": [
    "members.VHELIO_AVG"
   ]
  },
  {
   "cell_type": "markdown",
   "metadata": {},
   "source": [
    "# Check LAMOST"
   ]
  },
  {
   "cell_type": "code",
   "execution_count": null,
   "metadata": {},
   "outputs": [],
   "source": [
    "lamost_g = GaiaData('/Users/adrian/data/LAMOST/lamost-dr3-gaia-dr2.fits')"
   ]
  },
  {
   "cell_type": "code",
   "execution_count": null,
   "metadata": {},
   "outputs": [],
   "source": [
    "c = lamost_g.get_skycoord(distance=8*u.kpc,\n",
    "                          radial_velocity=lamost_g.rv)\n",
    "\n",
    "c = gc.reflex_correct(c.transform_to(gc.GD1))\n",
    "\n",
    "phi1 = c.phi1.wrap_at(180*u.deg)\n",
    "phi2 = c.phi2\n",
    "\n",
    "pm1 = c.pm_phi1_cosphi2.to(u.mas/u.yr)\n",
    "pm2 = c.pm_phi2.to(u.mas/u.yr)\n",
    "\n",
    "rv = c.radial_velocity\n",
    "rv_err = lamost['rv_err']"
   ]
  },
  {
   "cell_type": "code",
   "execution_count": null,
   "metadata": {},
   "outputs": [],
   "source": [
    "gd1_mask = ((phi1 > -120*u.deg) & (phi1 < 40*u.deg) &\n",
    "            (phi2 > -10*u.deg) & (phi2 < 5*u.deg))\n",
    "\n",
    "phi_mask = mpl.patches.Path(phi_poly).contains_points(np.vstack((phi1, phi2)).T)\n",
    "pm_mask = mpl.patches.Path(pm_poly).contains_points(np.vstack((pm1, pm2)).T)"
   ]
  },
  {
   "cell_type": "code",
   "execution_count": null,
   "metadata": {},
   "outputs": [],
   "source": [
    "fig, ax = plt.subplots(1, 1, figsize=(15, 3))\n",
    "\n",
    "ax.plot(phi1, phi2, \n",
    "        marker='o', mec='tab:blue', mew=1, mfc='none',\n",
    "        ls='none', alpha=0.5)\n",
    "\n",
    "ax.plot(gd1_phi1, gd1_phi2, \n",
    "        marker='.', ls='none', alpha=0.5, color='k')\n",
    "\n",
    "ax.set_xlim(-100, 20)\n",
    "ax.set_ylim(-10, 5)\n",
    "ax.set_aspect('equal')\n",
    "\n",
    "ax.set_xlabel(r'$\\phi_1$')\n",
    "ax.set_ylabel(r'$\\phi_2$')\n",
    "\n",
    "fig.tight_layout()"
   ]
  },
  {
   "cell_type": "code",
   "execution_count": null,
   "metadata": {},
   "outputs": [],
   "source": [
    "fig, ax = plt.subplots(1, 1, figsize=(8, 6))\n",
    "\n",
    "ax.scatter(phi1[gd1_mask & phi_mask & pm_mask], rv[gd1_mask & phi_mask & pm_mask], \n",
    "           marker='o', color='tab:blue', linewidth=1, facecolor='none',\n",
    "           alpha=1, s=25, label='APOGEE')\n",
    "\n",
    "drv = np.abs(phi1_to_rv(phi1.value) - rv.value)\n",
    "rv_members_mask = drv < 30.\n",
    "\n",
    "ax.errorbar(phi1[gd1_mask & phi_mask & pm_mask & rv_members_mask].value,\n",
    "            rv[gd1_mask & phi_mask & pm_mask & rv_members_mask].value, \n",
    "            yerr=np.array(rv_err[gd1_mask & phi_mask & pm_mask & rv_members_mask]),\n",
    "            color='tab:red', label='rv cands', ls='none', marker='.')\n",
    "\n",
    "ax.plot(kop_vr['phi1'], kop_vr['vr'], \n",
    "        marker='o', ls='none', alpha=0.75, color='k', \n",
    "        label='Koposov/SEGUE')\n",
    "\n",
    "ax.scatter(model_c.phi1.wrap_at(180*u.deg),\n",
    "           model_c.radial_velocity.to(u.km/u.s), \n",
    "           zorder=-100, color='#aaaaaa',\n",
    "           label='model')\n",
    "\n",
    "ax.set_xlim(-100, 20)\n",
    "ax.set_ylim(-350, 350)\n",
    "\n",
    "ax.set_xlabel(r'$\\phi_1$ [deg]')\n",
    "\n",
    "# ax.legend(loc='upper right', fontsize=18)\n",
    "ax.set_ylabel(r'$v_r$ [{0:latex_inline}]'.format(u.km/u.s))\n",
    "fig.tight_layout()"
   ]
  },
  {
   "cell_type": "code",
   "execution_count": null,
   "metadata": {},
   "outputs": [],
   "source": [
    "feh_mask = lamost['feh'] < -1.4"
   ]
  },
  {
   "cell_type": "code",
   "execution_count": null,
   "metadata": {},
   "outputs": [],
   "source": [
    "plt.hist(lamost['feh'][gd1_mask & phi_mask & pm_mask & rv_members_mask], \n",
    "         bins=np.linspace(-2.5, 0.5, 32));"
   ]
  },
  {
   "cell_type": "code",
   "execution_count": null,
   "metadata": {},
   "outputs": [],
   "source": [
    "fig, ax = plt.subplots(1, 1, figsize=(15, 3))\n",
    "\n",
    "ax.plot(phi1[gd1_mask & phi_mask & pm_mask & rv_members_mask & feh_mask], \n",
    "        phi2[gd1_mask & phi_mask & pm_mask & rv_members_mask & feh_mask], \n",
    "        marker='o', color='tab:red', ls='none', alpha=1)\n",
    "\n",
    "ax.plot(gd1_phi1, gd1_phi2, \n",
    "        marker='.', ls='none', alpha=0.5, color='k')\n",
    "\n",
    "# ax.set_xlim(-100, 20)\n",
    "# ax.set_ylim(-10, 5)\n",
    "\n",
    "ax.set_xlim(-60, -20)\n",
    "ax.set_ylim(-5, 5)\n",
    "\n",
    "ax.set_aspect('equal')\n",
    "\n",
    "ax.set_xlabel(r'$\\phi_1$')\n",
    "ax.set_ylabel(r'$\\phi_2$')\n",
    "\n",
    "fig.tight_layout()"
   ]
  },
  {
   "cell_type": "code",
   "execution_count": null,
   "metadata": {},
   "outputs": [],
   "source": [
    "fig, ax = plt.subplots(1, 1, figsize=(8, 6))\n",
    "\n",
    "ax.errorbar(phi1[gd1_mask & phi_mask & pm_mask & rv_members_mask & feh_mask].value,\n",
    "            rv[gd1_mask & phi_mask & pm_mask & rv_members_mask & feh_mask].value, \n",
    "            yerr=np.array(rv_err[gd1_mask & phi_mask & pm_mask & rv_members_mask & feh_mask]),\n",
    "            color='tab:red', label='rv cands', ls='none', marker='.')\n",
    "\n",
    "ax.plot(kop_vr['phi1'], kop_vr['vr'], \n",
    "        marker='o', ls='none', alpha=0.75, color='k')\n",
    "\n",
    "ax.set_xlim(-60, -20)\n",
    "ax.set_ylim(-200, 100)\n",
    "\n",
    "ax.set_xlabel(r'$\\phi_1$')\n",
    "# ax.set_ylabel(r'$\\phi_2$')\n",
    "\n",
    "fig.tight_layout()"
   ]
  },
  {
   "cell_type": "code",
   "execution_count": null,
   "metadata": {},
   "outputs": [],
   "source": []
  }
 ],
 "metadata": {
  "kernelspec": {
   "display_name": "Python [default]",
   "language": "python",
   "name": "python3"
  },
  "language_info": {
   "codemirror_mode": {
    "name": "ipython",
    "version": 3
   },
   "file_extension": ".py",
   "mimetype": "text/x-python",
   "name": "python",
   "nbconvert_exporter": "python",
   "pygments_lexer": "ipython3",
   "version": "3.6.4"
  }
 },
 "nbformat": 4,
 "nbformat_minor": 2
}