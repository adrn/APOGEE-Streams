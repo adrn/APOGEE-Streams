{
 "cells": [
  {
   "cell_type": "code",
   "execution_count": null,
   "metadata": {},
   "outputs": [],
   "source": [
    "import astropy.coordinates as coord\n",
    "import astropy.units as u\n",
    "from astropy.table import Table, join, vstack\n",
    "import numpy as np\n",
    "import matplotlib as mpl\n",
    "import matplotlib.pyplot as plt\n",
    "%matplotlib inline\n",
    "from astropy.io import ascii\n",
    "\n",
    "from scipy.interpolate import interp1d\n",
    "from scipy.stats import binned_statistic\n",
    "\n",
    "import gala.coordinates as gc\n",
    "import gala.dynamics as gd\n",
    "import gala.potential as gp\n",
    "from gala.units import galactic\n",
    "from pyia import GaiaData"
   ]
  },
  {
   "cell_type": "markdown",
   "metadata": {},
   "source": [
    "### Load APOGEE data"
   ]
  },
  {
   "cell_type": "code",
   "execution_count": null,
   "metadata": {},
   "outputs": [],
   "source": [
    "xmatch = Table.read('/Users/adrian/data/APOGEE_DR15beta/gaiadr2_allStar-t9-l31c-58158.fits')\n",
    "xmatch.rename_column('apstar_id', 'APSTAR_ID')"
   ]
  },
  {
   "cell_type": "code",
   "execution_count": null,
   "metadata": {},
   "outputs": [],
   "source": [
    "apogee = Table.read('/Users/adrian/data/APOGEE_DR15beta/allStar-t9-l31c-58158.fits')"
   ]
  },
  {
   "cell_type": "code",
   "execution_count": null,
   "metadata": {
    "scrolled": true
   },
   "outputs": [],
   "source": [
    "apogee_gaia = join(apogee, xmatch, keys='APSTAR_ID')\n",
    "ndim_cols = [x for x in apogee_gaia.columns if apogee_gaia[x].ndim == 1]\n",
    "apogee_gaia = apogee_gaia[ndim_cols]\n",
    "apogee_gaia = apogee_gaia[apogee_gaia['parallax'] < 1.]\n",
    "\n",
    "g = GaiaData(apogee_gaia)\n",
    "len(g)"
   ]
  },
  {
   "cell_type": "markdown",
   "metadata": {},
   "source": [
    "# Predict Orphan properties "
   ]
  },
  {
   "cell_type": "markdown",
   "metadata": {},
   "source": [
    "Taken from Hendel et al. 2018 - with PM prior"
   ]
  },
  {
   "cell_type": "code",
   "execution_count": null,
   "metadata": {},
   "outputs": [],
   "source": [
    "gc_frame = coord.Galactocentric(galcen_distance=8*u.kpc)"
   ]
  },
  {
   "cell_type": "code",
   "execution_count": null,
   "metadata": {},
   "outputs": [],
   "source": [
    "pot = gp.CCompositePotential()\n",
    "\n",
    "pot['disk'] = gp.MiyamotoNagaiPotential(m=1e11*u.Msun, a=6.5, b=0.26, units=galactic)\n",
    "\n",
    "pot['sph'] = gp.HernquistPotential(m=3.4e10*u.Msun, c=0.7, units=galactic)\n",
    "\n",
    "vh = 128. * np.sqrt(2) * u.km/u.s\n",
    "pot['halo'] = gp.LogarithmicPotential(v_c=vh, r_h=13.01, q1=1, q2=1, q3=1, units=galactic)\n",
    "\n",
    "pot.mass_enclosed([60, 0, 0.])"
   ]
  },
  {
   "cell_type": "code",
   "execution_count": null,
   "metadata": {},
   "outputs": [],
   "source": [
    "c0 = coord.SkyCoord(l=199.7796*u.deg,\n",
    "                    b=52.46*u.deg,\n",
    "                    distance=coord.Distance(distmod=17.66),\n",
    "                    pm_l_cosb=0.244 * u.mas/u.yr,\n",
    "                    pm_b=-0.715 * u.mas/u.yr,\n",
    "                    radial_velocity=176.2 * u.km/u.s,\n",
    "                    frame='galactic')"
   ]
  },
  {
   "cell_type": "code",
   "execution_count": null,
   "metadata": {},
   "outputs": [],
   "source": [
    "w0 = gd.PhaseSpacePosition(c0.transform_to(gc_frame).cartesian)"
   ]
  },
  {
   "cell_type": "code",
   "execution_count": null,
   "metadata": {},
   "outputs": [],
   "source": [
    "_orbit = pot.integrate_orbit(w0, dt=-1*u.Myr, n_steps=500)\n",
    "orbit = pot.integrate_orbit(_orbit[-1], dt=1*u.Myr, n_steps=1000)\n",
    "\n",
    "orbit_icrs = orbit.to_coord_frame(coord.ICRS, galactocentric_frame=gc_frame)\n",
    "orbit_c = orbit.to_coord_frame(gc.Orphan, galactocentric_frame=gc_frame)"
   ]
  },
  {
   "cell_type": "code",
   "execution_count": null,
   "metadata": {},
   "outputs": [],
   "source": [
    "fig, axes = plt.subplots(1, 2, figsize=(14, 4))\n",
    "\n",
    "ax = axes[0]\n",
    "ax.scatter(orbit_icrs.ra.degree, orbit_icrs.dec.degree, c=orbit.t.value)\n",
    "ax.set_xlim(240, 90)\n",
    "ax.set_ylim(-80, 80)\n",
    "ax.set_xlabel('RA')\n",
    "ax.set_ylabel('Dec')\n",
    "\n",
    "ax = axes[1]\n",
    "ax.scatter(orbit_c.phi1.wrap_at(180*u.deg).degree, orbit_c.phi2.degree, c=orbit.t.value)\n",
    "ax.set_xlim(-70, 70)\n",
    "ax.set_ylim(-10, 10)\n",
    "ax.set_xlabel(r'$\\phi_1$')\n",
    "ax.set_ylabel(r'$\\phi_2$')"
   ]
  },
  {
   "cell_type": "markdown",
   "metadata": {},
   "source": [
    "### Sky position mask"
   ]
  },
  {
   "cell_type": "code",
   "execution_count": null,
   "metadata": {},
   "outputs": [],
   "source": [
    "phi1_to_phi2 = interp1d(orbit_c.phi1.wrap_at(180*u.deg).degree, \n",
    "                        orbit_c.phi2.degree, bounds_error=False)\n",
    "\n",
    "phi1_to_rv = interp1d(orbit_c.phi1.wrap_at(180*u.deg).degree, \n",
    "                      orbit_c.radial_velocity.to(u.km/u.s).value,\n",
    "                      bounds_error=False)\n",
    "\n",
    "grid = np.linspace(-90, 90, 128)\n",
    "grid_phi2 = phi1_to_phi2(grid)\n",
    "\n",
    "grid_phi1 = np.concatenate((grid, grid[::-1]))\n",
    "grid_phi2 = np.concatenate((grid_phi2 + 1., grid_phi2[::-1] - 1.))\n",
    "\n",
    "phi_poly = np.vstack((grid_phi1, grid_phi2)).T\n",
    "phi_path = mpl.patches.Path(phi_poly)"
   ]
  },
  {
   "cell_type": "markdown",
   "metadata": {},
   "source": [
    "### Proper motion mask"
   ]
  },
  {
   "cell_type": "code",
   "execution_count": null,
   "metadata": {},
   "outputs": [],
   "source": [
    "fig, ax = plt.subplots(1, 1, figsize=(4, 4))\n",
    "ax.plot(orbit_c.pm_phi1_cosphi2, orbit_c.pm_phi2)\n",
    "ax.set_xlim(-10, 10)\n",
    "ax.set_ylim(-10, 10)\n",
    "\n",
    "pm_poly = np.array([[-5, -3],\n",
    "                    [-5, 1],\n",
    "                    [2, 1],\n",
    "                    [2, -3]])\n",
    "ax.plot(pm_poly[:,0], pm_poly[:,1])\n",
    "\n",
    "pm_path = mpl.patches.Path(pm_poly)"
   ]
  },
  {
   "cell_type": "markdown",
   "metadata": {},
   "source": [
    "---\n",
    "\n",
    "# APOGEE"
   ]
  },
  {
   "cell_type": "code",
   "execution_count": null,
   "metadata": {},
   "outputs": [],
   "source": [
    "c = g.get_skycoord(distance=False,\n",
    "                   radial_velocity=np.array(g.VHELIO_AVG)*u.km/u.s)\n",
    "c = c.transform_to(gc.Orphan)\n",
    "\n",
    "phi1 = c.phi1.wrap_at(180*u.deg)\n",
    "phi2 = c.phi2\n",
    "\n",
    "pm1 = c.pm_phi1_cosphi2.to(u.mas/u.yr)\n",
    "pm2 = c.pm_phi2.to(u.mas/u.yr)"
   ]
  },
  {
   "cell_type": "code",
   "execution_count": null,
   "metadata": {},
   "outputs": [],
   "source": [
    "phi_mask = phi_path.contains_points(np.vstack((phi1, phi2)).T)\n",
    "pm_mask = pm_path.contains_points(np.vstack((pm1, pm2)).T)"
   ]
  },
  {
   "cell_type": "code",
   "execution_count": null,
   "metadata": {
    "scrolled": false
   },
   "outputs": [],
   "source": [
    "fig, ax = plt.subplots(1, 1, figsize=(8, 6))\n",
    "\n",
    "ax.plot(g.ra[phi_mask], g.dec[phi_mask], \n",
    "        marker='.', color='k', ls='none', alpha=0.5)\n",
    "\n",
    "ax.scatter(orbit_icrs.ra.degree, orbit_icrs.dec.degree, c=orbit.t.value)\n",
    "\n",
    "ax.set_xlim(280, 40)\n",
    "ax.set_ylim(-80, 80)\n",
    "ax.set_aspect('equal')\n",
    "\n",
    "ax.set_xlabel(r'RA')\n",
    "ax.set_ylabel(r'Dec')\n",
    "\n",
    "fig.tight_layout()\n",
    "fig.savefig('../plots/orphan/radec.png', dpi=250)\n",
    "\n",
    "# ---\n",
    "\n",
    "fig, ax = plt.subplots(1, 1, figsize=(15, 3), sharex=True)\n",
    "\n",
    "ax.plot(phi1[phi_mask], phi2[phi_mask], \n",
    "        marker='.', color='k', ls='none', alpha=0.5)\n",
    "\n",
    "ax.scatter(orbit_c.phi1.wrap_at(180*u.deg).degree, \n",
    "           orbit_c.phi2.degree, c=orbit.t.value)\n",
    "\n",
    "ax.set_xlim(-90, 90)\n",
    "ax.set_ylim(-15, 15)\n",
    "ax.set_aspect('equal')\n",
    "\n",
    "ax.set_xlabel(r'$\\phi_1$')\n",
    "ax.set_ylabel(r'$\\phi_2$')\n",
    "\n",
    "# ---\n",
    "\n",
    "fig, ax = plt.subplots(1, 1, figsize=(8, 6), sharex=True)\n",
    "\n",
    "ax.scatter(orbit_c.phi1.wrap_at(180*u.deg).degree, \n",
    "           orbit_c.distance.value, c=orbit.t.value)\n",
    "\n",
    "ax.set_xlim(-40, 40)\n",
    "ax.set_ylim(5, 75)\n",
    "\n",
    "ax.set_xlabel(r'$\\phi_1$')\n",
    "ax.set_ylabel(r'$d$')\n",
    "\n",
    "fig.tight_layout()\n",
    "# fig.savefig('../plots/orphan/phi12.png', dpi=250)"
   ]
  },
  {
   "cell_type": "code",
   "execution_count": null,
   "metadata": {},
   "outputs": [],
   "source": [
    "fig, ax = plt.subplots(1, 1, figsize=(5, 5))\n",
    "\n",
    "ax.plot(pm1[phi_mask], pm2[phi_mask],  \n",
    "        marker='.', ls='none', alpha=0.5, color='k')\n",
    "\n",
    "ax.add_patch(mpl.patches.Polygon(pm_poly, \n",
    "                                 facecolor='none', \n",
    "                                 edgecolor='tab:blue'))\n",
    "\n",
    "# ax.scatter(orbit_c.pm_phi1_cosphi2, orbit_c.pm_phi2,\n",
    "#            zorder=-100, c=orbit.t)\n",
    "\n",
    "ax.set_xlim(-10, 10)\n",
    "ax.set_ylim(-10, 10)\n",
    "\n",
    "ax.set_xlabel(r'$\\mu_1 \\, \\cos\\phi_2$')\n",
    "ax.set_ylabel(r'$\\mu_2$')\n",
    "\n",
    "fig.tight_layout()\n",
    "\n",
    "fig.savefig('../plots/orphan/pm.png', dpi=250)"
   ]
  },
  {
   "cell_type": "code",
   "execution_count": null,
   "metadata": {},
   "outputs": [],
   "source": [
    "fig, ax = plt.subplots(1, 1, figsize=(8, 6))\n",
    "\n",
    "rv = g.VHELIO_AVG\n",
    "drv = np.abs(phi1_to_rv(phi1.value) - rv)\n",
    "rv_mask = drv < 30.\n",
    "\n",
    "ax.scatter(phi1[phi_mask & pm_mask], rv[phi_mask & pm_mask], \n",
    "           marker='o', color='tab:blue', linewidth=1, facecolor='none',\n",
    "           alpha=1, s=25, label='APOGEE')\n",
    "\n",
    "ax.scatter(phi1[phi_mask & pm_mask & rv_mask],\n",
    "           rv[phi_mask & pm_mask & rv_mask], \n",
    "           color='tab:red', label='RV candidates')\n",
    "\n",
    "ax.scatter(orbit_c.phi1.wrap_at(180*u.deg),\n",
    "           orbit_c.radial_velocity.to(u.km/u.s), \n",
    "           zorder=-100, color='#aaaaaa',\n",
    "           label='model')\n",
    "\n",
    "ax.set_xlim(-90, 90)\n",
    "ax.set_ylim(-350, 350)\n",
    "\n",
    "ax.set_xlabel(r'$\\phi_1$ [deg]')\n",
    "\n",
    "ax.legend(loc='best', fontsize=18)\n",
    "ax.set_ylabel(r'$v_r$ [{0:latex_inline}]'.format(u.km/u.s))\n",
    "ax.set_title('PM + sky selected')\n",
    "fig.tight_layout()\n",
    "\n",
    "fig.savefig('../plots/orphan/rv.png', dpi=250)"
   ]
  },
  {
   "cell_type": "code",
   "execution_count": null,
   "metadata": {},
   "outputs": [],
   "source": [
    "(phi_mask & pm_mask & rv_mask).sum()"
   ]
  },
  {
   "cell_type": "code",
   "execution_count": null,
   "metadata": {},
   "outputs": [],
   "source": [
    "plt.hist(g.M_H[phi_mask & pm_mask & rv_mask], \n",
    "         bins=np.linspace(-2, 0.5, 32));\n",
    "plt.xlabel('[M/H]')\n",
    "plt.title('PM + sky + RV selected')\n",
    "plt.tight_layout()\n",
    "plt.savefig('../plots/orphan/m_h.png', dpi=250)"
   ]
  },
  {
   "cell_type": "code",
   "execution_count": null,
   "metadata": {},
   "outputs": [],
   "source": [
    "# chem_mask = ((g.M_H < -1.2) & (g.M_H > -2.1) & \n",
    "#              (g.CA_FE < 0.5) & (g.CA_FE > -0.1) &\n",
    "#              (g.MG_FE > -0.2) & (g.MG_FE < 0.5))\n",
    "feh_mask = (g.M_H < -1.2) & (g.M_H > -2.1)\n",
    "chem_mask = ((g.CA_FE < 0.5) & (g.CA_FE > -0.1) &\n",
    "             (g.MG_FE > -0.2) & (g.MG_FE < 0.5))"
   ]
  },
  {
   "cell_type": "code",
   "execution_count": null,
   "metadata": {},
   "outputs": [],
   "source": [
    "fig, axes = plt.subplots(3, 1, figsize=(8, 8), \n",
    "                         sharex=True, sharey=True)\n",
    "\n",
    "for ax, name, label in zip(axes, ['MG_FE', 'CA_FE', 'O_FE'], \n",
    "                           ['[Mg/Fe]', '[Ca/Fe]', '[O/Fe]']):\n",
    "    ax.errorbar(g.M_H[phi_mask & pm_mask], \n",
    "                getattr(g[phi_mask & pm_mask], name), \n",
    "                xerr=g.M_H_ERR[phi_mask & pm_mask], \n",
    "                yerr=getattr(g[phi_mask & pm_mask], name + '_ERR'), \n",
    "                marker='o', ls='none', color='k', ecolor='#aaaaaa', alpha=0.5,\n",
    "                label='PM+sky')\n",
    "\n",
    "    ax.scatter(g.M_H[phi_mask & pm_mask & rv_mask], \n",
    "               getattr(g[phi_mask & pm_mask & rv_mask], name), \n",
    "               marker='o', color='tab:red', alpha=0.75, zorder=100, s=35, \n",
    "               label='PM+sky+RV')\n",
    "\n",
    "    ax.axvspan(-2.1, -0.9, lw=0, \n",
    "               zorder=-100, color='tab:blue', alpha=0.1)\n",
    "\n",
    "    ax.axhline(0)\n",
    "    ax.set_ylabel(label)\n",
    "    \n",
    "axes[0].legend(fontsize=15)\n",
    "\n",
    "ax.set_xlim(-2.6, 0.5)\n",
    "ax.set_ylim(-0.3, 0.8)\n",
    "ax.yaxis.set_ticks([-0.3, 0, 0.3, 0.6])\n",
    "\n",
    "fig.tight_layout()\n",
    "\n",
    "fig.savefig('../plots/orphan/alpha.png', dpi=250)"
   ]
  },
  {
   "cell_type": "code",
   "execution_count": null,
   "metadata": {},
   "outputs": [],
   "source": [
    "fig, ax = plt.subplots(1, 1, figsize=(8, 6))\n",
    "\n",
    "rv = g.VHELIO_AVG\n",
    "drv = np.abs(phi1_to_rv(phi1.value) - rv)\n",
    "rv_mask = drv < 30.\n",
    "\n",
    "ax.scatter(phi1[phi_mask & pm_mask], rv[phi_mask & pm_mask], \n",
    "           marker='o', color='tab:blue', linewidth=1, facecolor='none',\n",
    "           alpha=1, s=25, label='APOGEE')\n",
    "\n",
    "ax.scatter(phi1[phi_mask & pm_mask & feh_mask],\n",
    "           rv[phi_mask & pm_mask & feh_mask], \n",
    "           color='tab:red', label='[Fe/H] candidates')\n",
    "\n",
    "ax.scatter(orbit_c.phi1.wrap_at(180*u.deg),\n",
    "           orbit_c.radial_velocity.to(u.km/u.s), \n",
    "           zorder=-100, color='#aaaaaa',\n",
    "           label='model')\n",
    "\n",
    "ax.set_xlim(-90, 90)\n",
    "ax.set_ylim(-350, 350)\n",
    "\n",
    "ax.set_xlabel(r'$\\phi_1$ [deg]')\n",
    "\n",
    "ax.legend(loc='best', fontsize=18)\n",
    "ax.set_ylabel(r'$v_r$ [{0:latex_inline}]'.format(u.km/u.s))\n",
    "fig.tight_layout()"
   ]
  },
  {
   "cell_type": "code",
   "execution_count": null,
   "metadata": {},
   "outputs": [],
   "source": [
    "(phi_mask & pm_mask & rv_mask & feh_mask).sum()"
   ]
  },
  {
   "cell_type": "code",
   "execution_count": null,
   "metadata": {},
   "outputs": [],
   "source": [
    "plt.hist(g[phi_mask & pm_mask & rv_mask & feh_mask].ALPHA_M, bins='auto');"
   ]
  },
  {
   "cell_type": "code",
   "execution_count": null,
   "metadata": {},
   "outputs": [],
   "source": [
    "DM = coord.Distance(30*u.kpc).distmod.value\n",
    "DM"
   ]
  },
  {
   "cell_type": "code",
   "execution_count": null,
   "metadata": {},
   "outputs": [],
   "source": [
    "isos = []\n",
    "\n",
    "iso = ascii.read('../isochrones/8Gyr_FeH-1.6_2MASS.cmd', header_start=12)\n",
    "iso = iso[iso['phase'] < 4]\n",
    "isos.append(iso)\n",
    "\n",
    "iso = ascii.read('../isochrones/8Gyr_FeH-1.8_2MASS.cmd', header_start=12)\n",
    "iso = iso[iso['phase'] < 4]\n",
    "isos.append(iso)"
   ]
  },
  {
   "cell_type": "code",
   "execution_count": null,
   "metadata": {},
   "outputs": [],
   "source": [
    "plt.figure(figsize=(4, 6))\n",
    "plt.scatter((g.J - g.K)[phi_mask & pm_mask], g.H[phi_mask & pm_mask], \n",
    "            color='#aaaaaa', marker='.')\n",
    "\n",
    "plt.scatter((g.J - g.K)[phi_mask & pm_mask & rv_mask & feh_mask], \n",
    "            g.H[phi_mask & pm_mask & rv_mask & feh_mask],\n",
    "            color='k')\n",
    "\n",
    "for iso in isos:\n",
    "    for ph in np.unique(iso['phase']):\n",
    "        i = iso[iso['phase'] == ph]\n",
    "        plt.plot(i['2MASS_J']-i['2MASS_Ks'], i['2MASS_H']+DM, \n",
    "                 marker='', color='tab:blue')\n",
    "\n",
    "plt.ylim(15, 10)\n",
    "plt.xlim(0.1, 1.1)"
   ]
  },
  {
   "cell_type": "markdown",
   "metadata": {},
   "source": [
    "---\n",
    "# Check LAMOST"
   ]
  },
  {
   "cell_type": "code",
   "execution_count": null,
   "metadata": {},
   "outputs": [],
   "source": [
    "lamost_g = GaiaData('/Users/adrian/data/LAMOST/lamost-dr3-gaia-dr2.fits')"
   ]
  },
  {
   "cell_type": "code",
   "execution_count": null,
   "metadata": {},
   "outputs": [],
   "source": [
    "c = lamost_g.get_skycoord(distance=False,\n",
    "                          radial_velocity=lamost_g.rv)\n",
    "\n",
    "c = c.transform_to(gc.Orphan)\n",
    "\n",
    "phi1 = c.phi1.wrap_at(180*u.deg)\n",
    "phi2 = c.phi2\n",
    "\n",
    "pm1 = c.pm_phi1_cosphi2.to(u.mas/u.yr)\n",
    "pm2 = c.pm_phi2.to(u.mas/u.yr)\n",
    "\n",
    "rv = c.radial_velocity\n",
    "rv_err = lamost_g.rv_err"
   ]
  },
  {
   "cell_type": "code",
   "execution_count": null,
   "metadata": {},
   "outputs": [],
   "source": [
    "phi_mask = phi_path.contains_points(np.vstack((phi1, phi2)).T)\n",
    "pm_mask = pm_path.contains_points(np.vstack((pm1, pm2)).T)"
   ]
  },
  {
   "cell_type": "code",
   "execution_count": null,
   "metadata": {},
   "outputs": [],
   "source": [
    "fig, ax = plt.subplots(1, 1, figsize=(15, 3))\n",
    "\n",
    "ax.plot(phi1[phi_mask], phi2[phi_mask], \n",
    "        marker='.', color='k', ls='none', alpha=0.5)\n",
    "\n",
    "ax.scatter(orbit_c.phi1.wrap_at(180*u.deg).degree, \n",
    "           orbit_c.phi2.degree, c=orbit.t.value)\n",
    "\n",
    "ax.set_xlim(-90, 90)\n",
    "ax.set_ylim(-15, 15)\n",
    "ax.set_aspect('equal')\n",
    "\n",
    "ax.set_xlabel(r'$\\phi_1$')\n",
    "ax.set_ylabel(r'$\\phi_2$')\n",
    "\n",
    "fig.tight_layout()"
   ]
  },
  {
   "cell_type": "code",
   "execution_count": null,
   "metadata": {},
   "outputs": [],
   "source": [
    "fig, ax = plt.subplots(1, 1, figsize=(8, 6))\n",
    "\n",
    "drv = np.abs(phi1_to_rv(phi1.value) - rv.value)\n",
    "rv_mask = drv < 30.\n",
    "\n",
    "ax.scatter(phi1[phi_mask & pm_mask], rv[phi_mask & pm_mask], \n",
    "           marker='o', color='tab:blue', linewidth=1, facecolor='none',\n",
    "           alpha=1, s=25, label='APOGEE')\n",
    "\n",
    "ax.scatter(phi1[phi_mask & pm_mask & rv_mask],\n",
    "           rv[phi_mask & pm_mask & rv_mask], \n",
    "           color='tab:red', label='RV candidates')\n",
    "\n",
    "ax.scatter(orbit_c.phi1.wrap_at(180*u.deg),\n",
    "           orbit_c.radial_velocity.to(u.km/u.s), \n",
    "           zorder=-100, color='#aaaaaa',\n",
    "           label='model')\n",
    "\n",
    "ax.set_xlim(-90, 90)\n",
    "ax.set_ylim(-350, 350)\n",
    "\n",
    "ax.set_xlabel(r'$\\phi_1$ [deg]')\n",
    "\n",
    "ax.legend(loc='best', fontsize=18)\n",
    "ax.set_ylabel(r'$v_r$ [{0:latex_inline}]'.format(u.km/u.s))\n",
    "ax.set_title('PM + sky selected')\n",
    "fig.tight_layout()"
   ]
  },
  {
   "cell_type": "code",
   "execution_count": null,
   "metadata": {},
   "outputs": [],
   "source": [
    "feh_mask = lamost_g.feh < -1."
   ]
  },
  {
   "cell_type": "code",
   "execution_count": null,
   "metadata": {},
   "outputs": [],
   "source": [
    "plt.hist(lamost_g.feh[phi_mask & pm_mask & rv_mask], \n",
    "         bins=np.linspace(-2.5, 0.5, 32));"
   ]
  },
  {
   "cell_type": "code",
   "execution_count": null,
   "metadata": {},
   "outputs": [],
   "source": [
    "fig, ax = plt.subplots(1, 1, figsize=(15, 3))\n",
    "\n",
    "ax.plot(phi1[phi_mask & pm_mask & rv_mask & feh_mask], \n",
    "        phi2[phi_mask & pm_mask & rv_mask & feh_mask], \n",
    "        marker='o', color='tab:red', ls='none', alpha=1)\n",
    "\n",
    "# ax.set_xlim(-100, 20)\n",
    "# ax.set_ylim(-10, 5)\n",
    "\n",
    "ax.set_xlim(-90, 90)\n",
    "ax.set_ylim(-15, 15)\n",
    "\n",
    "ax.set_aspect('equal')\n",
    "\n",
    "ax.set_xlabel(r'$\\phi_1$')\n",
    "ax.set_ylabel(r'$\\phi_2$')\n",
    "\n",
    "fig.tight_layout()"
   ]
  },
  {
   "cell_type": "code",
   "execution_count": null,
   "metadata": {},
   "outputs": [],
   "source": []
  }
 ],
 "metadata": {
  "kernelspec": {
   "display_name": "Python [default]",
   "language": "python",
   "name": "python3"
  },
  "language_info": {
   "codemirror_mode": {
    "name": "ipython",
    "version": 3
   },
   "file_extension": ".py",
   "mimetype": "text/x-python",
   "name": "python",
   "nbconvert_exporter": "python",
   "pygments_lexer": "ipython3",
   "version": "3.6.4"
  }
 },
 "nbformat": 4,
 "nbformat_minor": 2
}